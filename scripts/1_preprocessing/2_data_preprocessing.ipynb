{
 "cells": [
  {
   "cell_type": "markdown",
   "metadata": {},
   "source": [
    "# **MetaboTandem**"
   ]
  },
  {
   "cell_type": "markdown",
   "metadata": {},
   "source": [
    "# 2. Data Pre-processing"
   ]
  },
  {
   "cell_type": "markdown",
   "metadata": {},
   "source": [
    "This Notebook allows the preprocessing of the LC-MS/MS data. \n",
    "Pre-processing in untargeted metabolomics experiments aims at quantifying the signal from individual ion species in a data set. It consists of 3 main steps: \n",
    "- **Chromatographic peak detection**\n",
    "- **Alignment**\n",
    "- **Correspondence** \n",
    "\n",
    "The resulting matrix of feature abundances can then be used as an input in downstream analyses.\n"
   ]
  },
  {
   "cell_type": "markdown",
   "metadata": {},
   "source": [
    "## 1.2 Load libraries"
   ]
  },
  {
   "cell_type": "code",
   "execution_count": 1,
   "metadata": {},
   "outputs": [
    {
     "name": "stderr",
     "output_type": "stream",
     "text": [
      "Loading required package: BiocParallel\n",
      "\n",
      "Loading required package: MSnbase\n",
      "\n",
      "Loading required package: BiocGenerics\n",
      "\n",
      "Loading required package: parallel\n",
      "\n",
      "\n",
      "Attaching package: 'BiocGenerics'\n",
      "\n",
      "\n",
      "The following objects are masked from 'package:parallel':\n",
      "\n",
      "    clusterApply, clusterApplyLB, clusterCall, clusterEvalQ,\n",
      "    clusterExport, clusterMap, parApply, parCapply, parLapply,\n",
      "    parLapplyLB, parRapply, parSapply, parSapplyLB\n",
      "\n",
      "\n",
      "The following objects are masked from 'package:stats':\n",
      "\n",
      "    IQR, mad, sd, var, xtabs\n",
      "\n",
      "\n",
      "The following objects are masked from 'package:base':\n",
      "\n",
      "    anyDuplicated, append, as.data.frame, basename, cbind, colnames,\n",
      "    dirname, do.call, duplicated, eval, evalq, Filter, Find, get, grep,\n",
      "    grepl, intersect, is.unsorted, lapply, Map, mapply, match, mget,\n",
      "    order, paste, pmax, pmax.int, pmin, pmin.int, Position, rank,\n",
      "    rbind, Reduce, rownames, sapply, setdiff, sort, table, tapply,\n",
      "    union, unique, unsplit, which.max, which.min\n",
      "\n",
      "\n",
      "Loading required package: Biobase\n",
      "\n",
      "Welcome to Bioconductor\n",
      "\n",
      "    Vignettes contain introductory material; view with\n",
      "    'browseVignettes()'. To cite Bioconductor, see\n",
      "    'citation(\"Biobase\")', and for packages 'citation(\"pkgname\")'.\n",
      "\n",
      "\n",
      "Loading required package: mzR\n",
      "\n",
      "Loading required package: Rcpp\n",
      "\n",
      "Warning message in fun(libname, pkgname):\n",
      "\"mzR has been built against a different Rcpp version (1.0.6)\n",
      "than is installed on your system (1.0.7). This might lead to errors\n",
      "when loading mzR. If you encounter such issues, please send a report,\n",
      "including the output of sessionInfo() to the Bioc support forum at \n",
      "https://support.bioconductor.org/. For details see also\n",
      "https://github.com/sneumann/mzR/wiki/mzR-Rcpp-compiler-linker-issue.\"\n",
      "Loading required package: S4Vectors\n",
      "\n",
      "Loading required package: stats4\n",
      "\n",
      "\n",
      "Attaching package: 'S4Vectors'\n",
      "\n",
      "\n",
      "The following objects are masked from 'package:base':\n",
      "\n",
      "    expand.grid, I, unname\n",
      "\n",
      "\n",
      "Loading required package: ProtGenerics\n",
      "\n",
      "\n",
      "Attaching package: 'ProtGenerics'\n",
      "\n",
      "\n",
      "The following object is masked from 'package:stats':\n",
      "\n",
      "    smooth\n",
      "\n",
      "\n",
      "\n",
      "This is MSnbase version 2.18.0 \n",
      "  Visit https://lgatto.github.io/MSnbase/ to get started.\n",
      "\n",
      "\n",
      "\n",
      "Attaching package: 'MSnbase'\n",
      "\n",
      "\n",
      "The following object is masked from 'package:base':\n",
      "\n",
      "    trimws\n",
      "\n",
      "\n",
      "\n",
      "This is xcms version 3.14.1 \n",
      "\n",
      "\n",
      "\n",
      "Attaching package: 'xcms'\n",
      "\n",
      "\n",
      "The following object is masked from 'package:stats':\n",
      "\n",
      "    sigma\n",
      "\n",
      "\n",
      "-- \u001b[1mAttaching packages\u001b[22m ------------------------------------------------------------------------------- tidyverse 1.3.1 --\n",
      "\n",
      "\u001b[32mv\u001b[39m \u001b[34mggplot2\u001b[39m 3.3.5     \u001b[32mv\u001b[39m \u001b[34mpurrr  \u001b[39m 0.3.4\n",
      "\u001b[32mv\u001b[39m \u001b[34mtibble \u001b[39m 3.1.6     \u001b[32mv\u001b[39m \u001b[34mdplyr  \u001b[39m 1.0.7\n",
      "\u001b[32mv\u001b[39m \u001b[34mtidyr  \u001b[39m 1.1.4     \u001b[32mv\u001b[39m \u001b[34mstringr\u001b[39m 1.4.0\n",
      "\u001b[32mv\u001b[39m \u001b[34mreadr  \u001b[39m 2.1.0     \u001b[32mv\u001b[39m \u001b[34mforcats\u001b[39m 0.5.1\n",
      "\n",
      "-- \u001b[1mConflicts\u001b[22m ---------------------------------------------------------------------------------- tidyverse_conflicts() --\n",
      "\u001b[31mx\u001b[39m \u001b[34mdplyr\u001b[39m::\u001b[32mcollect()\u001b[39m    masks \u001b[34mxcms\u001b[39m::collect()\n",
      "\u001b[31mx\u001b[39m \u001b[34mdplyr\u001b[39m::\u001b[32mcombine()\u001b[39m    masks \u001b[34mMSnbase\u001b[39m::combine(), \u001b[34mBiobase\u001b[39m::combine(), \u001b[34mBiocGenerics\u001b[39m::combine()\n",
      "\u001b[31mx\u001b[39m \u001b[34mtidyr\u001b[39m::\u001b[32mexpand()\u001b[39m     masks \u001b[34mS4Vectors\u001b[39m::expand()\n",
      "\u001b[31mx\u001b[39m \u001b[34mdplyr\u001b[39m::\u001b[32mfilter()\u001b[39m     masks \u001b[34mstats\u001b[39m::filter()\n",
      "\u001b[31mx\u001b[39m \u001b[34mdplyr\u001b[39m::\u001b[32mfirst()\u001b[39m      masks \u001b[34mS4Vectors\u001b[39m::first()\n",
      "\u001b[31mx\u001b[39m \u001b[34mdplyr\u001b[39m::\u001b[32mgroups()\u001b[39m     masks \u001b[34mxcms\u001b[39m::groups()\n",
      "\u001b[31mx\u001b[39m \u001b[34mdplyr\u001b[39m::\u001b[32mlag()\u001b[39m        masks \u001b[34mstats\u001b[39m::lag()\n",
      "\u001b[31mx\u001b[39m \u001b[34mggplot2\u001b[39m::\u001b[32mPosition()\u001b[39m masks \u001b[34mBiocGenerics\u001b[39m::Position(), \u001b[34mbase\u001b[39m::Position()\n",
      "\u001b[31mx\u001b[39m \u001b[34mpurrr\u001b[39m::\u001b[32mreduce()\u001b[39m     masks \u001b[34mMSnbase\u001b[39m::reduce()\n",
      "\u001b[31mx\u001b[39m \u001b[34mdplyr\u001b[39m::\u001b[32mrename()\u001b[39m     masks \u001b[34mS4Vectors\u001b[39m::rename()\n",
      "\n"
     ]
    }
   ],
   "source": [
    "library(xcms)\n",
    "library(tidyverse)\n",
    "library(ggpubr)"
   ]
  },
  {
   "cell_type": "markdown",
   "metadata": {},
   "source": [
    "## 2.1 User inputs required <===="
   ]
  },
  {
   "cell_type": "markdown",
   "metadata": {},
   "source": [
    "#### a. Pre-loaded LC-MS/MS data\n",
    "Please enter the path to the the R object containing the LC-MS/MS data. This object can be created with the previous script `1_data_import.ipynb`\n"
   ]
  },
  {
   "cell_type": "code",
   "execution_count": 2,
   "metadata": {},
   "outputs": [],
   "source": [
    "data_file  <- '../../data/imported_data.RData'"
   ]
  },
  {
   "cell_type": "markdown",
   "metadata": {},
   "source": [
    "#### c. Variable to color\n",
    "Set which variable will be used for coloring plots"
   ]
  },
  {
   "cell_type": "code",
   "execution_count": 3,
   "metadata": {},
   "outputs": [],
   "source": [
    "color_by <- 'treatment'"
   ]
  },
  {
   "cell_type": "markdown",
   "metadata": {},
   "source": [
    "## 2.2 Load data"
   ]
  },
  {
   "cell_type": "code",
   "execution_count": 17,
   "metadata": {},
   "outputs": [
    {
     "data": {
      "text/plain": [
       "MSn experiment data (\"OnDiskMSnExp\")\n",
       "Object size in memory: 0.03 Mb\n",
       "- - - Spectra data - - -\n",
       " MS level(s): 1 2 \n",
       " Number of spectra: 4 \n",
       " MSn retention times: 0:00 - 0:04 minutes\n",
       "- - - Processing information - - -\n",
       "Data loaded [Mon Feb 14 15:05:33 2022] \n",
       " MSnbase version: 2.18.0 \n",
       "- - - Meta data  - - -\n",
       "phenoData\n",
       "  rowNames: 1\n",
       "  varLabels: FileName SampleID treatment time\n",
       "  varMetadata: labelDescription\n",
       "Loaded from:\n",
       "  Control-T1.mzXML \n",
       "protocolData: none\n",
       "featureData\n",
       "  featureNames: F1.S0001 F1.S0002 F1.S0003 F1.S0004\n",
       "  fvarLabels: fileIdx spIdx ... spectrum (35 total)\n",
       "  fvarMetadata: labelDescription\n",
       "experimentData: use 'experimentData(object)'"
      ]
     },
     "metadata": {},
     "output_type": "display_data"
    }
   ],
   "source": [
    "load(data_file)"
   ]
  },
  {
   "cell_type": "markdown",
   "metadata": {},
   "source": [
    "## 2.3 Initial data visualization"
   ]
  },
  {
   "cell_type": "markdown",
   "metadata": {},
   "source": [
    "Set colors for plots."
   ]
  },
  {
   "cell_type": "code",
   "execution_count": 5,
   "metadata": {},
   "outputs": [
    {
     "data": {
      "text/html": [
       "<style>\n",
       ".dl-inline {width: auto; margin:0; padding: 0}\n",
       ".dl-inline>dt, .dl-inline>dd {float: none; width: auto; display: inline-block}\n",
       ".dl-inline>dt::after {content: \":\\0020\"; padding-right: .5ex}\n",
       ".dl-inline>dt:not(:first-of-type) {padding-left: .5ex}\n",
       "</style><dl class=dl-inline><dt>Control</dt><dd>'#1B9E77'</dd><dt>Control</dt><dd>'#1B9E77'</dd><dt>Inoculum</dt><dd>'#7570B3'</dd><dt>Inoculum</dt><dd>'#7570B3'</dd></dl>\n"
      ],
      "text/latex": [
       "\\begin{description*}\n",
       "\\item[Control] '\\#1B9E77'\n",
       "\\item[Control] '\\#1B9E77'\n",
       "\\item[Inoculum] '\\#7570B3'\n",
       "\\item[Inoculum] '\\#7570B3'\n",
       "\\end{description*}\n"
      ],
      "text/markdown": [
       "Control\n",
       ":   '#1B9E77'Control\n",
       ":   '#1B9E77'Inoculum\n",
       ":   '#7570B3'Inoculum\n",
       ":   '#7570B3'\n",
       "\n"
      ],
      "text/plain": [
       "  Control   Control  Inoculum  Inoculum \n",
       "\"#1B9E77\" \"#1B9E77\" \"#7570B3\" \"#7570B3\" "
      ]
     },
     "metadata": {},
     "output_type": "display_data"
    }
   ],
   "source": [
    "# Create color palette\n",
    "color_list <- get_palette(palette = 'Dark2', length(unique(as_vector(metadata[,color_by]))))\n",
    "names(color_list) <- unique(as_vector(metadata[,color_by]))\n",
    "\n",
    "# Create vector of color for plots\n",
    "color_vector <- c(rep(color_list, each = 2))\n",
    "color_vector"
   ]
  },
  {
   "cell_type": "markdown",
   "metadata": {},
   "source": [
    "Provides an initial visualization of the **total ion chromatogram (TIC)** and the **base peak chromatogram (BPC)** of your data."
   ]
  },
  {
   "cell_type": "code",
   "execution_count": 6,
   "metadata": {},
   "outputs": [],
   "source": [
    "# Extract chromatograms\n",
    "tic <- chromatogram(data, aggregationFun=\"sum\")\n",
    "bpc <- chromatogram(data, aggregationFun=\"max\")"
   ]
  },
  {
   "cell_type": "markdown",
   "metadata": {},
   "source": [
    "#### Plot TIC"
   ]
  },
  {
   "cell_type": "code",
   "execution_count": 8,
   "metadata": {
    "scrolled": true
   },
   "outputs": [
    {
     "data": {
      "image/png": "[encoded data removed]",
      "text/plain": [
       "Plot with title \"TIC\""
      ]
     },
     "metadata": {
      "image/png": {
       "height": 420,
       "width": 420
      }
     },
     "output_type": "display_data"
    }
   ],
   "source": [
    "plot(tic, col = color_vector, ylab = \"Intensity\", xlab = \"Retention Time (sec)\", main = 'TIC')\n",
    "legend(\"topright\", legend = unique(as_vector(metadata[,color_by])), col = color_vector, lty=1)"
   ]
  },
  {
   "cell_type": "markdown",
   "metadata": {},
   "source": [
    "#### Plot BPC"
   ]
  },
  {
   "cell_type": "code",
   "execution_count": 9,
   "metadata": {},
   "outputs": [
    {
     "data": {
      "image/png": "[encoded data removed]",
      "text/plain": [
       "Plot with title \"BPC\""
      ]
     },
     "metadata": {
      "image/png": {
       "height": 420,
       "width": 420
      }
     },
     "output_type": "display_data"
    }
   ],
   "source": [
    "plot(bpc, col = color_vector, ylab=\"Intensity\", xlab=\"Retention Time (sec)\", main= 'BPC')\n",
    "legend(\"topright\", legend=unique(as_vector(metadata[,color_by])), col = color_vector, lty=1)"
   ]
  },
  {
   "cell_type": "markdown",
   "metadata": {},
   "source": [
    "## 2.4 Chromatographic peak detection"
   ]
  },
  {
   "cell_type": "markdown",
   "metadata": {},
   "source": [
    "### Testing peak detection parameters <==== User inputs required"
   ]
  },
  {
   "cell_type": "markdown",
   "metadata": {},
   "source": [
    "#### Peaks for visualize the samples\n",
    "Please enter ranges of masses (*m/z*) and retention times (*rt*, in seconds) for a couple of peaks to visualize how your data respond to the selected parameters"
   ]
  },
  {
   "cell_type": "code",
   "execution_count": 19,
   "metadata": {},
   "outputs": [],
   "source": [
    "mzr1  <- c(550, 600)\n",
    "rt1  <- c(900, 1200)"
   ]
  },
  {
   "cell_type": "markdown",
   "metadata": {},
   "source": [
    "#### Parameters for peak picking"
   ]
  },
  {
   "cell_type": "code",
   "execution_count": 20,
   "metadata": {},
   "outputs": [],
   "source": [
    "cwp <- CentWaveParam(\n",
    "    peakwidth = c(10, 50), \n",
    "    ppm = 25,\n",
    "    snthresh = 3, # default\n",
    "    noise = 2.5e5,\n",
    "    mzdiff = -0.001,\n",
    "    prefilter = c(1, 100))"
   ]
  },
  {
   "cell_type": "markdown",
   "metadata": {},
   "source": [
    "#### Testing parameters"
   ]
  },
  {
   "cell_type": "code",
   "execution_count": 22,
   "metadata": {},
   "outputs": [
    {
     "data": {
      "image/png": "[encoded data removed]",
      "text/plain": [
       "Plot with title \"550.0000 - 599.9998\""
      ]
     },
     "metadata": {
      "image/png": {
       "height": 420,
       "width": 420
      }
     },
     "output_type": "display_data"
    }
   ],
   "source": [
    "data %>% \n",
    "    filterRt(rt = rt1) %>% \n",
    "    filterMz(mz = mzr1) %>% \n",
    "    chromatogram(., aggregationFun=\"max\") %>% \n",
    "      findChromPeaks(., param = cwp) %>% \n",
    "      plot(col = \"indianred2\", \n",
    "           ylab=\"Intensity\", xlab=\"Retention Time (sec)\",\n",
    "           font.lab=1, cex.lab=1, cex.axis=1, font.main=1, cex.main=1)"
   ]
  },
  {
   "cell_type": "markdown",
   "metadata": {},
   "source": [
    "#### Apply on full data"
   ]
  },
  {
   "cell_type": "code",
   "execution_count": 24,
   "metadata": {},
   "outputs": [
    {
     "name": "stderr",
     "output_type": "stream",
     "text": [
      "\n",
      "Attaching package: 'BiocGenerics'\n",
      "\n",
      "The following objects are masked from 'package:parallel':\n",
      "\n",
      "    clusterApply, clusterApplyLB, clusterCall, clusterEvalQ,\n",
      "    clusterExport, clusterMap, parApply, parCapply, parLapply,\n",
      "    parLapplyLB, parRapply, parSapply, parSapplyLB\n",
      "\n",
      "The following objects are masked from 'package:stats':\n",
      "\n",
      "    IQR, mad, sd, var, xtabs\n",
      "\n",
      "The following objects are masked from 'package:base':\n",
      "\n",
      "    anyDuplicated, append, as.data.frame, basename, cbind, colnames,\n",
      "    dirname, do.call, duplicated, eval, evalq, Filter, Find, get, grep,\n",
      "    grepl, intersect, is.unsorted, lapply, Map, mapply, match, mget,\n",
      "    order, paste, pmax, pmax.int, pmin, pmin.int, Position, rank,\n",
      "    rbind, Reduce, rownames, sapply, setdiff, sort, table, tapply,\n",
      "    union, unique, unsplit, which.max, which.min\n",
      "\n",
      "Welcome to Bioconductor\n",
      "\n",
      "    Vignettes contain introductory material; view with\n",
      "    'browseVignettes()'. To cite Bioconductor, see\n",
      "    'citation(\"Biobase\")', and for packages 'citation(\"pkgname\")'.\n",
      "\n",
      "\n",
      "Attaching package: 'S4Vectors'\n",
      "\n",
      "The following objects are masked from 'package:base':\n",
      "\n",
      "    expand.grid, I, unname\n",
      "\n",
      "\n",
      "Attaching package: 'ProtGenerics'\n",
      "\n",
      "The following object is masked from 'package:stats':\n",
      "\n",
      "    smooth\n",
      "\n",
      "\n",
      "This is MSnbase version 2.18.0 \n",
      "  Visit https://lgatto.github.io/MSnbase/ to get started.\n",
      "\n",
      "\n",
      "Attaching package: 'MSnbase'\n",
      "\n",
      "The following object is masked from 'package:base':\n",
      "\n",
      "    trimws\n",
      "\n",
      "\n",
      "This is xcms version 3.14.1 \n",
      "\n",
      "\n",
      "Attaching package: 'xcms'\n",
      "\n",
      "The following object is masked from 'package:stats':\n",
      "\n",
      "    sigma\n",
      "\n",
      "Detecting mass traces at 25 ppm ... OK\n",
      "Detecting chromatographic peaks in 14 regions of interest ... OK: 9 found.\n",
      "\n",
      "\n",
      "Attaching package: 'BiocGenerics'\n",
      "\n",
      "The following objects are masked from 'package:parallel':\n",
      "\n",
      "    clusterApply, clusterApplyLB, clusterCall, clusterEvalQ,\n",
      "    clusterExport, clusterMap, parApply, parCapply, parLapply,\n",
      "    parLapplyLB, parRapply, parSapply, parSapplyLB\n",
      "\n",
      "The following objects are masked from 'package:stats':\n",
      "\n",
      "    IQR, mad, sd, var, xtabs\n",
      "\n",
      "The following objects are masked from 'package:base':\n",
      "\n",
      "    anyDuplicated, append, as.data.frame, basename, cbind, colnames,\n",
      "    dirname, do.call, duplicated, eval, evalq, Filter, Find, get, grep,\n",
      "    grepl, intersect, is.unsorted, lapply, Map, mapply, match, mget,\n",
      "    order, paste, pmax, pmax.int, pmin, pmin.int, Position, rank,\n",
      "    rbind, Reduce, rownames, sapply, setdiff, sort, table, tapply,\n",
      "    union, unique, unsplit, which.max, which.min\n",
      "\n",
      "Welcome to Bioconductor\n",
      "\n",
      "    Vignettes contain introductory material; view with\n",
      "    'browseVignettes()'. To cite Bioconductor, see\n",
      "    'citation(\"Biobase\")', and for packages 'citation(\"pkgname\")'.\n",
      "\n",
      "\n",
      "Attaching package: 'S4Vectors'\n",
      "\n",
      "The following objects are masked from 'package:base':\n",
      "\n",
      "    expand.grid, I, unname\n",
      "\n",
      "\n",
      "Attaching package: 'ProtGenerics'\n",
      "\n",
      "The following object is masked from 'package:stats':\n",
      "\n",
      "    smooth\n",
      "\n",
      "\n",
      "This is MSnbase version 2.18.0 \n",
      "  Visit https://lgatto.github.io/MSnbase/ to get started.\n",
      "\n",
      "\n",
      "Attaching package: 'MSnbase'\n",
      "\n",
      "The following object is masked from 'package:base':\n",
      "\n",
      "    trimws\n",
      "\n",
      "\n",
      "This is xcms version 3.14.1 \n",
      "\n",
      "\n",
      "Attaching package: 'xcms'\n",
      "\n",
      "The following object is masked from 'package:stats':\n",
      "\n",
      "    sigma\n",
      "\n",
      "Detecting mass traces at 25 ppm ... OK\n",
      "Detecting chromatographic peaks in 21 regions of interest ... OK: 16 found.\n",
      "\n",
      "\n",
      "Attaching package: 'BiocGenerics'\n",
      "\n",
      "The following objects are masked from 'package:parallel':\n",
      "\n",
      "    clusterApply, clusterApplyLB, clusterCall, clusterEvalQ,\n",
      "    clusterExport, clusterMap, parApply, parCapply, parLapply,\n",
      "    parLapplyLB, parRapply, parSapply, parSapplyLB\n",
      "\n",
      "The following objects are masked from 'package:stats':\n",
      "\n",
      "    IQR, mad, sd, var, xtabs\n",
      "\n",
      "The following objects are masked from 'package:base':\n",
      "\n",
      "    anyDuplicated, append, as.data.frame, basename, cbind, colnames,\n",
      "    dirname, do.call, duplicated, eval, evalq, Filter, Find, get, grep,\n",
      "    grepl, intersect, is.unsorted, lapply, Map, mapply, match, mget,\n",
      "    order, paste, pmax, pmax.int, pmin, pmin.int, Position, rank,\n",
      "    rbind, Reduce, rownames, sapply, setdiff, sort, table, tapply,\n",
      "    union, unique, unsplit, which.max, which.min\n",
      "\n",
      "Welcome to Bioconductor\n",
      "\n",
      "    Vignettes contain introductory material; view with\n",
      "    'browseVignettes()'. To cite Bioconductor, see\n",
      "    'citation(\"Biobase\")', and for packages 'citation(\"pkgname\")'.\n",
      "\n",
      "\n",
      "Attaching package: 'S4Vectors'\n",
      "\n",
      "The following objects are masked from 'package:base':\n",
      "\n",
      "    expand.grid, I, unname\n",
      "\n",
      "\n",
      "Attaching package: 'ProtGenerics'\n",
      "\n",
      "The following object is masked from 'package:stats':\n",
      "\n",
      "    smooth\n",
      "\n",
      "\n",
      "This is MSnbase version 2.18.0 \n",
      "  Visit https://lgatto.github.io/MSnbase/ to get started.\n",
      "\n",
      "\n",
      "Attaching package: 'MSnbase'\n",
      "\n",
      "The following object is masked from 'package:base':\n",
      "\n",
      "    trimws\n",
      "\n",
      "\n",
      "This is xcms version 3.14.1 \n",
      "\n",
      "\n",
      "Attaching package: 'xcms'\n",
      "\n",
      "The following object is masked from 'package:stats':\n",
      "\n",
      "    sigma\n",
      "\n",
      "Detecting mass traces at 25 ppm ... OK\n",
      "Detecting chromatographic peaks in 13 regions of interest ... OK: 10 found.\n",
      "\n",
      "\n",
      "Attaching package: 'BiocGenerics'\n",
      "\n",
      "The following objects are masked from 'package:parallel':\n",
      "\n",
      "    clusterApply, clusterApplyLB, clusterCall, clusterEvalQ,\n",
      "    clusterExport, clusterMap, parApply, parCapply, parLapply,\n",
      "    parLapplyLB, parRapply, parSapply, parSapplyLB\n",
      "\n",
      "The following objects are masked from 'package:stats':\n",
      "\n",
      "    IQR, mad, sd, var, xtabs\n",
      "\n",
      "The following objects are masked from 'package:base':\n",
      "\n",
      "    anyDuplicated, append, as.data.frame, basename, cbind, colnames,\n",
      "    dirname, do.call, duplicated, eval, evalq, Filter, Find, get, grep,\n",
      "    grepl, intersect, is.unsorted, lapply, Map, mapply, match, mget,\n",
      "    order, paste, pmax, pmax.int, pmin, pmin.int, Position, rank,\n",
      "    rbind, Reduce, rownames, sapply, setdiff, sort, table, tapply,\n",
      "    union, unique, unsplit, which.max, which.min\n",
      "\n",
      "Welcome to Bioconductor\n",
      "\n",
      "    Vignettes contain introductory material; view with\n",
      "    'browseVignettes()'. To cite Bioconductor, see\n",
      "    'citation(\"Biobase\")', and for packages 'citation(\"pkgname\")'.\n",
      "\n",
      "\n",
      "Attaching package: 'S4Vectors'\n",
      "\n",
      "The following objects are masked from 'package:base':\n",
      "\n",
      "    expand.grid, I, unname\n",
      "\n",
      "\n",
      "Attaching package: 'ProtGenerics'\n",
      "\n",
      "The following object is masked from 'package:stats':\n",
      "\n",
      "    smooth\n",
      "\n",
      "\n",
      "This is MSnbase version 2.18.0 \n",
      "  Visit https://lgatto.github.io/MSnbase/ to get started.\n",
      "\n",
      "\n",
      "Attaching package: 'MSnbase'\n",
      "\n",
      "The following object is masked from 'package:base':\n",
      "\n",
      "    trimws\n",
      "\n",
      "\n",
      "This is xcms version 3.14.1 \n",
      "\n",
      "\n",
      "Attaching package: 'xcms'\n",
      "\n",
      "The following object is masked from 'package:stats':\n",
      "\n",
      "    sigma\n",
      "\n",
      "Error in (function (x)  : attempt to apply non-function\n",
      "Detecting mass traces at 25 ppm ... OK\n",
      "Detecting chromatographic peaks in 22 regions of interest ... OK: 20 found.\n",
      "\n"
     ]
    }
   ],
   "source": [
    "data <- findChromPeaks(data, param = cwp)"
   ]
  },
  {
   "cell_type": "markdown",
   "metadata": {},
   "source": [
    "#### Extracting peak information"
   ]
  },
  {
   "cell_type": "code",
   "execution_count": 29,
   "metadata": {},
   "outputs": [
    {
     "data": {
      "text/html": [
       "<table class=\"dataframe\">\n",
       "<caption>A data.frame: 4 × 3</caption>\n",
       "<thead>\n",
       "\t<tr><th scope=col>sampleIndex</th><th scope=col>SampleID</th><th scope=col>totalPeaksDetected</th></tr>\n",
       "\t<tr><th scope=col>&lt;dbl&gt;</th><th scope=col>&lt;chr&gt;</th><th scope=col>&lt;int&gt;</th></tr>\n",
       "</thead>\n",
       "<tbody>\n",
       "\t<tr><td>1</td><td>Contro-T1  </td><td>20</td></tr>\n",
       "\t<tr><td>2</td><td>Contro-TF  </td><td> 9</td></tr>\n",
       "\t<tr><td>3</td><td>Inoculum-T1</td><td>16</td></tr>\n",
       "\t<tr><td>4</td><td>Inoculum-TF</td><td>10</td></tr>\n",
       "</tbody>\n",
       "</table>\n"
      ],
      "text/latex": [
       "A data.frame: 4 × 3\n",
       "\\begin{tabular}{lll}\n",
       " sampleIndex & SampleID & totalPeaksDetected\\\\\n",
       " <dbl> & <chr> & <int>\\\\\n",
       "\\hline\n",
       "\t 1 & Contro-T1   & 20\\\\\n",
       "\t 2 & Contro-TF   &  9\\\\\n",
       "\t 3 & Inoculum-T1 & 16\\\\\n",
       "\t 4 & Inoculum-TF & 10\\\\\n",
       "\\end{tabular}\n"
      ],
      "text/markdown": [
       "\n",
       "A data.frame: 4 × 3\n",
       "\n",
       "| sampleIndex &lt;dbl&gt; | SampleID &lt;chr&gt; | totalPeaksDetected &lt;int&gt; |\n",
       "|---|---|---|\n",
       "| 1 | Contro-T1   | 20 |\n",
       "| 2 | Contro-TF   |  9 |\n",
       "| 3 | Inoculum-T1 | 16 |\n",
       "| 4 | Inoculum-TF | 10 |\n",
       "\n"
      ],
      "text/plain": [
       "  sampleIndex SampleID    totalPeaksDetected\n",
       "1 1           Contro-T1   20                \n",
       "2 2           Contro-TF    9                \n",
       "3 3           Inoculum-T1 16                \n",
       "4 4           Inoculum-TF 10                "
      ]
     },
     "metadata": {},
     "output_type": "display_data"
    }
   ],
   "source": [
    "chrom_peaks_df <- as.data.frame(chromPeaks(data))\n",
    "n.peaks.sample <- chrom_peaks_df %>% count(sample)\n",
    "colnames(n.peaks.sample) <- c('sampleIndex', 'totalPeaksDetected')\n",
    "n.peaks.sample <- merge(n.peaks.sample, pData(data), by.x = \"sampleIndex\", by.y = 0)\n",
    "n.peaks.sample[,c(1,4,2)]\n",
    "table_file <- file.path('NumberDetectedPeaks.csv')\n",
    "write.csv(x = n.peaks.sample, file = table_file, row.names = F)"
   ]
  }
 ],
 "metadata": {
  "kernelspec": {
   "display_name": "R",
   "language": "R",
   "name": "ir"
  },
  "language_info": {
   "codemirror_mode": "r",
   "file_extension": ".r",
   "mimetype": "text/x-r-source",
   "name": "R",
   "pygments_lexer": "r",
   "version": "4.1.1"
  }
 },
 "nbformat": 4,
 "nbformat_minor": 4
}
