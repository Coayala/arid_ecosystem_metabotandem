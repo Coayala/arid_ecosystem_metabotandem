{
 "cells": [
  {
   "cell_type": "markdown",
   "metadata": {},
   "source": [
    "# **MetaboTandem**"
   ]
  },
  {
   "cell_type": "markdown",
   "metadata": {},
   "source": [
    "# 1. Data import\n",
    "\n",
    "This Notebook allows to import LC-MS/MS spectra using the R package *xcms*."
   ]
  },
  {
   "cell_type": "markdown",
   "metadata": {},
   "source": [
    "## 1.1 Load required libraries"
   ]
  },
  {
   "cell_type": "code",
   "execution_count": 8,
   "metadata": {
    "scrolled": true
   },
   "outputs": [
    {
     "name": "stderr",
     "output_type": "stream",
     "text": [
      "-- \u001b[1mAttaching packages\u001b[22m ------------------------------------------------------------------------------- tidyverse 1.3.1 --\n",
      "\n",
      "\u001b[32mv\u001b[39m \u001b[34mggplot2\u001b[39m 3.3.5     \u001b[32mv\u001b[39m \u001b[34mpurrr  \u001b[39m 0.3.4\n",
      "\u001b[32mv\u001b[39m \u001b[34mtibble \u001b[39m 3.1.6     \u001b[32mv\u001b[39m \u001b[34mdplyr  \u001b[39m 1.0.7\n",
      "\u001b[32mv\u001b[39m \u001b[34mtidyr  \u001b[39m 1.1.4     \u001b[32mv\u001b[39m \u001b[34mstringr\u001b[39m 1.4.0\n",
      "\u001b[32mv\u001b[39m \u001b[34mreadr  \u001b[39m 2.1.0     \u001b[32mv\u001b[39m \u001b[34mforcats\u001b[39m 0.5.1\n",
      "\n",
      "-- \u001b[1mConflicts\u001b[22m ---------------------------------------------------------------------------------- tidyverse_conflicts() --\n",
      "\u001b[31mx\u001b[39m \u001b[34mdplyr\u001b[39m::\u001b[32mcollect()\u001b[39m    masks \u001b[34mxcms\u001b[39m::collect()\n",
      "\u001b[31mx\u001b[39m \u001b[34mdplyr\u001b[39m::\u001b[32mcombine()\u001b[39m    masks \u001b[34mMSnbase\u001b[39m::combine(), \u001b[34mBiobase\u001b[39m::combine(), \u001b[34mBiocGenerics\u001b[39m::combine()\n",
      "\u001b[31mx\u001b[39m \u001b[34mtidyr\u001b[39m::\u001b[32mexpand()\u001b[39m     masks \u001b[34mS4Vectors\u001b[39m::expand()\n",
      "\u001b[31mx\u001b[39m \u001b[34mdplyr\u001b[39m::\u001b[32mfilter()\u001b[39m     masks \u001b[34mstats\u001b[39m::filter()\n",
      "\u001b[31mx\u001b[39m \u001b[34mdplyr\u001b[39m::\u001b[32mfirst()\u001b[39m      masks \u001b[34mS4Vectors\u001b[39m::first()\n",
      "\u001b[31mx\u001b[39m \u001b[34mdplyr\u001b[39m::\u001b[32mgroups()\u001b[39m     masks \u001b[34mxcms\u001b[39m::groups()\n",
      "\u001b[31mx\u001b[39m \u001b[34mdplyr\u001b[39m::\u001b[32mlag()\u001b[39m        masks \u001b[34mstats\u001b[39m::lag()\n",
      "\u001b[31mx\u001b[39m \u001b[34mggplot2\u001b[39m::\u001b[32mPosition()\u001b[39m masks \u001b[34mBiocGenerics\u001b[39m::Position(), \u001b[34mbase\u001b[39m::Position()\n",
      "\u001b[31mx\u001b[39m \u001b[34mpurrr\u001b[39m::\u001b[32mreduce()\u001b[39m     masks \u001b[34mMSnbase\u001b[39m::reduce()\n",
      "\u001b[31mx\u001b[39m \u001b[34mdplyr\u001b[39m::\u001b[32mrename()\u001b[39m     masks \u001b[34mS4Vectors\u001b[39m::rename()\n",
      "\n"
     ]
    }
   ],
   "source": [
    "library(xcms)\n",
    "library(tidyverse)"
   ]
  },
  {
   "cell_type": "markdown",
   "metadata": {},
   "source": [
    "## 1.2 Paths to the data (User inputs required) <====\n",
    "\n",
    "Enter below the required data according to the description."
   ]
  },
  {
   "cell_type": "markdown",
   "metadata": {},
   "source": [
    "### Path to the directory containing the LC-MS/MS spectra\n",
    "Please put all spectra to be analyzed in the `home/jovyan/work/data` directory. All spectra must be in **.mzXML** format. If data is loaded in a different directory, please enter its path below.\n",
    "\n",
    "***Important:*** Make sure that the spectra data is in **centroid** mode."
   ]
  },
  {
   "cell_type": "code",
   "execution_count": 3,
   "metadata": {},
   "outputs": [],
   "source": [
    "data_dir <- '../../data/'"
   ]
  },
  {
   "cell_type": "markdown",
   "metadata": {},
   "source": [
    "### Metadata file\n",
    "Please enter the path of the file with information about the samples.\n",
    "The first column of the metadata must have the paths to the files for each of the samples."
   ]
  },
  {
   "cell_type": "code",
   "execution_count": 7,
   "metadata": {},
   "outputs": [],
   "source": [
    "metadata_file <- '../../data/metadata.csv'"
   ]
  },
  {
   "cell_type": "markdown",
   "metadata": {},
   "source": [
    "## 1.3 Import data\n",
    "Importing spectra data to be used in the MetaboTandem pipeline."
   ]
  },
  {
   "cell_type": "code",
   "execution_count": 23,
   "metadata": {
    "scrolled": true
   },
   "outputs": [
    {
     "name": "stderr",
     "output_type": "stream",
     "text": [
      "Reading 2522 spectra from file Control-T1.mzXML\n",
      "\n",
      "Reading 2495 spectra from file Control-TF.mzXML\n",
      "\n",
      "Reading 2557 spectra from file Inoculum-T1.mzXML\n",
      "\n",
      "Reading 2538 spectra from file Inoculum-TF.mzXML\n",
      "\n"
     ]
    }
   ],
   "source": [
    "# Open metadata\n",
    "metadata <- read_csv(metadata_file, show_col_types = FALSE)\n",
    "\n",
    "# Get list of mass spectra files\n",
    "ms_files <- list.files(data_dir, full.names = TRUE, pattern = '*.mzXML')\n",
    "\n",
    "# Read data as an `OnDiskMSnExp` object from xcms\n",
    "data <- readMSData(ms_files, \n",
    "                   pdata = new('NAnnotatedDataFrame', metadata),\n",
    "                   mode = 'onDisk', \n",
    "                   verbose = TRUE)"
   ]
  },
  {
   "cell_type": "markdown",
   "metadata": {},
   "source": [
    "Checking that data is correctly load"
   ]
  },
  {
   "cell_type": "code",
   "execution_count": 25,
   "metadata": {},
   "outputs": [
    {
     "name": "stdout",
     "output_type": "stream",
     "text": [
      "MSn experiment data (\"OnDiskMSnExp\")\n",
      "Object size in memory: 3.05 Mb\n",
      "- - - Spectra data - - -\n",
      " MS level(s): 1 2 \n",
      " Number of spectra: 10112 \n",
      " MSn retention times: 0:00 - 60:03 minutes\n",
      "- - - Processing information - - -\n",
      "Data loaded [Mon Feb 14 15:05:33 2022] \n",
      " MSnbase version: 2.18.0 \n",
      "- - - Meta data  - - -\n",
      "phenoData\n",
      "  rowNames: 1 2 3 4\n",
      "  varLabels: FileName SampleID treatment time\n",
      "  varMetadata: labelDescription\n",
      "Loaded from:\n",
      "  [1] Control-T1.mzXML...  [4] Inoculum-TF.mzXML\n",
      "  Use 'fileNames(.)' to see all files.\n",
      "protocolData: none\n",
      "featureData\n",
      "  featureNames: F1.S0001 F1.S0002 ... F4.S2538 (10112 total)\n",
      "  fvarLabels: fileIdx spIdx ... spectrum (35 total)\n",
      "  fvarMetadata: labelDescription\n",
      "experimentData: use 'experimentData(object)'\n"
     ]
    }
   ],
   "source": [
    "show(data)"
   ]
  },
  {
   "cell_type": "markdown",
   "metadata": {},
   "source": [
    "Checking if data is centroided"
   ]
  },
  {
   "cell_type": "code",
   "execution_count": 20,
   "metadata": {},
   "outputs": [
    {
     "data": {
      "text/html": [
       "TRUE"
      ],
      "text/latex": [
       "TRUE"
      ],
      "text/markdown": [
       "TRUE"
      ],
      "text/plain": [
       "[1] TRUE"
      ]
     },
     "metadata": {},
     "output_type": "display_data"
    }
   ],
   "source": [
    "unique(fData(data)$centroided)"
   ]
  },
  {
   "cell_type": "markdown",
   "metadata": {},
   "source": [
    "## 1.4 Exporting data\n",
    "Saving data as an R object (`.RData`) so you it can be used directly for following analysis"
   ]
  },
  {
   "cell_type": "code",
   "execution_count": 29,
   "metadata": {},
   "outputs": [],
   "source": [
    "save(data, metadata, file = '../../data/imported_data.RData')"
   ]
  }
 ],
 "metadata": {
  "kernelspec": {
   "display_name": "R",
   "language": "R",
   "name": "ir"
  },
  "language_info": {
   "codemirror_mode": "r",
   "file_extension": ".r",
   "mimetype": "text/x-r-source",
   "name": "R",
   "pygments_lexer": "r",
   "version": "4.1.1"
  }
 },
 "nbformat": 4,
 "nbformat_minor": 4
}
