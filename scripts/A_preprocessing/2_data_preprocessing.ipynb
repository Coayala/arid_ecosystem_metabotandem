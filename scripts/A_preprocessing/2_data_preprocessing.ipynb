{
 "cells": [
  {
   "cell_type": "markdown",
   "metadata": {},
   "source": [
    "# **MetaboTandem**"
   ]
  },
  {
   "cell_type": "markdown",
   "metadata": {},
   "source": [
    "# A. Data Pre-processing"
   ]
  },
  {
   "cell_type": "markdown",
   "metadata": {},
   "source": [
    "# 2. Pre-processing using XCMS"
   ]
  },
  {
   "cell_type": "markdown",
   "metadata": {},
   "source": [
    "This Notebook allows the preprocessing of the LC-MS/MS data. \n",
    "Pre-processing in untargeted metabolomics experiments aims at quantifying the signal from individual ion species in a data set. It consists of 3 main steps: \n",
    "- **Chromatographic peak detection**\n",
    "- **Alignment**\n",
    "- **Correspondence** \n",
    "\n",
    "The resulting matrix of feature abundances can then be used as an input in downstream analyses.\n"
   ]
  },
  {
   "cell_type": "markdown",
   "metadata": {},
   "source": [
    "## 2.1 Load libraries"
   ]
  },
  {
   "cell_type": "code",
   "execution_count": 1,
   "metadata": {},
   "outputs": [
    {
     "name": "stderr",
     "output_type": "stream",
     "text": [
      "Loading required package: BiocParallel\n",
      "\n",
      "Loading required package: MSnbase\n",
      "\n",
      "Loading required package: BiocGenerics\n",
      "\n",
      "Loading required package: parallel\n",
      "\n",
      "\n",
      "Attaching package: 'BiocGenerics'\n",
      "\n",
      "\n",
      "The following objects are masked from 'package:parallel':\n",
      "\n",
      "    clusterApply, clusterApplyLB, clusterCall, clusterEvalQ,\n",
      "    clusterExport, clusterMap, parApply, parCapply, parLapply,\n",
      "    parLapplyLB, parRapply, parSapply, parSapplyLB\n",
      "\n",
      "\n",
      "The following objects are masked from 'package:stats':\n",
      "\n",
      "    IQR, mad, sd, var, xtabs\n",
      "\n",
      "\n",
      "The following objects are masked from 'package:base':\n",
      "\n",
      "    anyDuplicated, append, as.data.frame, basename, cbind, colnames,\n",
      "    dirname, do.call, duplicated, eval, evalq, Filter, Find, get, grep,\n",
      "    grepl, intersect, is.unsorted, lapply, Map, mapply, match, mget,\n",
      "    order, paste, pmax, pmax.int, pmin, pmin.int, Position, rank,\n",
      "    rbind, Reduce, rownames, sapply, setdiff, sort, table, tapply,\n",
      "    union, unique, unsplit, which.max, which.min\n",
      "\n",
      "\n",
      "Loading required package: Biobase\n",
      "\n",
      "Welcome to Bioconductor\n",
      "\n",
      "    Vignettes contain introductory material; view with\n",
      "    'browseVignettes()'. To cite Bioconductor, see\n",
      "    'citation(\"Biobase\")', and for packages 'citation(\"pkgname\")'.\n",
      "\n",
      "\n",
      "Loading required package: mzR\n",
      "\n",
      "Loading required package: Rcpp\n",
      "\n",
      "Warning message in fun(libname, pkgname):\n",
      "\"mzR has been built against a different Rcpp version (1.0.6)\n",
      "than is installed on your system (1.0.7). This might lead to errors\n",
      "when loading mzR. If you encounter such issues, please send a report,\n",
      "including the output of sessionInfo() to the Bioc support forum at \n",
      "https://support.bioconductor.org/. For details see also\n",
      "https://github.com/sneumann/mzR/wiki/mzR-Rcpp-compiler-linker-issue.\"\n",
      "Loading required package: S4Vectors\n",
      "\n",
      "Loading required package: stats4\n",
      "\n",
      "\n",
      "Attaching package: 'S4Vectors'\n",
      "\n",
      "\n",
      "The following objects are masked from 'package:base':\n",
      "\n",
      "    expand.grid, I, unname\n",
      "\n",
      "\n",
      "Loading required package: ProtGenerics\n",
      "\n",
      "\n",
      "Attaching package: 'ProtGenerics'\n",
      "\n",
      "\n",
      "The following object is masked from 'package:stats':\n",
      "\n",
      "    smooth\n",
      "\n",
      "\n",
      "\n",
      "This is MSnbase version 2.18.0 \n",
      "  Visit https://lgatto.github.io/MSnbase/ to get started.\n",
      "\n",
      "\n",
      "\n",
      "Attaching package: 'MSnbase'\n",
      "\n",
      "\n",
      "The following object is masked from 'package:base':\n",
      "\n",
      "    trimws\n",
      "\n",
      "\n",
      "\n",
      "This is xcms version 3.14.1 \n",
      "\n",
      "\n",
      "\n",
      "Attaching package: 'xcms'\n",
      "\n",
      "\n",
      "The following object is masked from 'package:stats':\n",
      "\n",
      "    sigma\n",
      "\n",
      "\n",
      "-- \u001b[1mAttaching packages\u001b[22m ------------------------------------------------------------------------------- tidyverse 1.3.1 --\n",
      "\n",
      "\u001b[32mv\u001b[39m \u001b[34mggplot2\u001b[39m 3.3.5     \u001b[32mv\u001b[39m \u001b[34mpurrr  \u001b[39m 0.3.4\n",
      "\u001b[32mv\u001b[39m \u001b[34mtibble \u001b[39m 3.1.6     \u001b[32mv\u001b[39m \u001b[34mdplyr  \u001b[39m 1.0.7\n",
      "\u001b[32mv\u001b[39m \u001b[34mtidyr  \u001b[39m 1.1.4     \u001b[32mv\u001b[39m \u001b[34mstringr\u001b[39m 1.4.0\n",
      "\u001b[32mv\u001b[39m \u001b[34mreadr  \u001b[39m 2.1.2     \u001b[32mv\u001b[39m \u001b[34mforcats\u001b[39m 0.5.1\n",
      "\n",
      "Warning message:\n",
      "\"package 'readr' was built under R version 4.1.2\"\n",
      "-- \u001b[1mConflicts\u001b[22m ---------------------------------------------------------------------------------- tidyverse_conflicts() --\n",
      "\u001b[31mx\u001b[39m \u001b[34mdplyr\u001b[39m::\u001b[32mcollect()\u001b[39m    masks \u001b[34mxcms\u001b[39m::collect()\n",
      "\u001b[31mx\u001b[39m \u001b[34mdplyr\u001b[39m::\u001b[32mcombine()\u001b[39m    masks \u001b[34mMSnbase\u001b[39m::combine(), \u001b[34mBiobase\u001b[39m::combine(), \u001b[34mBiocGenerics\u001b[39m::combine()\n",
      "\u001b[31mx\u001b[39m \u001b[34mtidyr\u001b[39m::\u001b[32mexpand()\u001b[39m     masks \u001b[34mS4Vectors\u001b[39m::expand()\n",
      "\u001b[31mx\u001b[39m \u001b[34mdplyr\u001b[39m::\u001b[32mfilter()\u001b[39m     masks \u001b[34mstats\u001b[39m::filter()\n",
      "\u001b[31mx\u001b[39m \u001b[34mdplyr\u001b[39m::\u001b[32mfirst()\u001b[39m      masks \u001b[34mS4Vectors\u001b[39m::first()\n",
      "\u001b[31mx\u001b[39m \u001b[34mdplyr\u001b[39m::\u001b[32mgroups()\u001b[39m     masks \u001b[34mxcms\u001b[39m::groups()\n",
      "\u001b[31mx\u001b[39m \u001b[34mdplyr\u001b[39m::\u001b[32mlag()\u001b[39m        masks \u001b[34mstats\u001b[39m::lag()\n",
      "\u001b[31mx\u001b[39m \u001b[34mggplot2\u001b[39m::\u001b[32mPosition()\u001b[39m masks \u001b[34mBiocGenerics\u001b[39m::Position(), \u001b[34mbase\u001b[39m::Position()\n",
      "\u001b[31mx\u001b[39m \u001b[34mpurrr\u001b[39m::\u001b[32mreduce()\u001b[39m     masks \u001b[34mMSnbase\u001b[39m::reduce()\n",
      "\u001b[31mx\u001b[39m \u001b[34mdplyr\u001b[39m::\u001b[32mrename()\u001b[39m     masks \u001b[34mS4Vectors\u001b[39m::rename()\n",
      "\n"
     ]
    }
   ],
   "source": [
    "library(xcms)\n",
    "library(tidyverse)\n",
    "library(ggpubr)\n",
    "\n",
    "source(\"https://raw.githubusercontent.com/jorainer/xcms-gnps-tools/master/customFunctions.R\")\n",
    "# Modified function to write the feature name as the title of each MS2\n",
    "source('modified_writeMgfData.R')"
   ]
  },
  {
   "cell_type": "markdown",
   "metadata": {},
   "source": [
    "## 2.1 User inputs required <===="
   ]
  },
  {
   "cell_type": "markdown",
   "metadata": {},
   "source": [
    "#### a. Pre-loaded LC-MS/MS data\n",
    "Please enter the path to the the R object containing the LC-MS/MS data. This object can be created with the previous script `1_data_import.ipynb`\n"
   ]
  },
  {
   "cell_type": "code",
   "execution_count": 2,
   "metadata": {},
   "outputs": [],
   "source": [
    "data_file  <- '../../data/imported_data.RData'"
   ]
  },
  {
   "cell_type": "markdown",
   "metadata": {},
   "source": [
    "#### c. Variable to color\n",
    "Set which variable will be used for coloring plots"
   ]
  },
  {
   "cell_type": "code",
   "execution_count": 3,
   "metadata": {},
   "outputs": [],
   "source": [
    "color_by <- 'treatment'"
   ]
  },
  {
   "cell_type": "markdown",
   "metadata": {},
   "source": [
    "## 2.2 Output directories"
   ]
  },
  {
   "cell_type": "code",
   "execution_count": 4,
   "metadata": {},
   "outputs": [],
   "source": [
    "# Creating paths for the ouput directories\n",
    "figures_dir <- file.path('..', 'figures')\n",
    "tables_dir <- file.path('..', 'tables')\n",
    "\n",
    "# Create output directories\n",
    "dir.create(figures_dir, showWarnings = FALSE)\n",
    "dir.create(tables_dir, showWarnings = FALSE)"
   ]
  },
  {
   "cell_type": "markdown",
   "metadata": {},
   "source": [
    "## 2.2 Load data"
   ]
  },
  {
   "cell_type": "code",
   "execution_count": 5,
   "metadata": {},
   "outputs": [],
   "source": [
    "load(data_file)"
   ]
  },
  {
   "cell_type": "markdown",
   "metadata": {},
   "source": [
    "## 2.3 Initial data visualization"
   ]
  },
  {
   "cell_type": "markdown",
   "metadata": {},
   "source": [
    "Set colors for plots."
   ]
  },
  {
   "cell_type": "code",
   "execution_count": 6,
   "metadata": {},
   "outputs": [],
   "source": [
    "# Create color palette\n",
    "color_list <- get_palette(palette = 'Dark2', length(unique(as_vector(metadata[,color_by]))))\n",
    "names(color_list) <- unique(as_vector(metadata[,color_by]))\n",
    "\n",
    "# Create vector of color for plots\n",
    "color_vector <- c(rep(color_list, each = 2))"
   ]
  },
  {
   "cell_type": "markdown",
   "metadata": {},
   "source": [
    "Provides an initial visualization of the **total ion chromatogram (TIC)** and the **base peak chromatogram (BPC)** of your data."
   ]
  },
  {
   "cell_type": "code",
   "execution_count": 7,
   "metadata": {},
   "outputs": [],
   "source": [
    "# Extract chromatograms\n",
    "tic <- chromatogram(data, aggregationFun=\"sum\")\n",
    "bpc <- chromatogram(data, aggregationFun=\"max\")"
   ]
  },
  {
   "cell_type": "markdown",
   "metadata": {},
   "source": [
    "#### Plot TIC"
   ]
  },
  {
   "cell_type": "code",
   "execution_count": 8,
   "metadata": {
    "scrolled": true
   },
   "outputs": [
    {
     "data": {
      "text/html": [
       "<strong>png:</strong> 2"
      ],
      "text/latex": [
       "\\textbf{png:} 2"
      ],
      "text/markdown": [
       "**png:** 2"
      ],
      "text/plain": [
       "png \n",
       "  2 "
      ]
     },
     "metadata": {},
     "output_type": "display_data"
    }
   ],
   "source": [
    "figure_file <- file.path(figures_dir, '2.1_tic.png')\n",
    "png(figure_file, width = 3000, height = 2000, res = 300)\n",
    "plot(tic, col = color_vector, ylab = \"Intensity\", xlab = \"Retention Time (sec)\", main = 'TIC')\n",
    "legend(\"topright\", legend = unique(as_vector(metadata[,color_by])), col = color_vector, lty=1)\n",
    "dev.off()"
   ]
  },
  {
   "cell_type": "markdown",
   "metadata": {},
   "source": [
    "#### Plot BPC"
   ]
  },
  {
   "cell_type": "code",
   "execution_count": 9,
   "metadata": {
    "scrolled": true
   },
   "outputs": [
    {
     "data": {
      "text/html": [
       "<strong>png:</strong> 2"
      ],
      "text/latex": [
       "\\textbf{png:} 2"
      ],
      "text/markdown": [
       "**png:** 2"
      ],
      "text/plain": [
       "png \n",
       "  2 "
      ]
     },
     "metadata": {},
     "output_type": "display_data"
    }
   ],
   "source": [
    "figure_file <- file.path(figures_dir, '2.2_bpc.png')\n",
    "png(figure_file, width = 3000, height = 2000, res = 300)\n",
    "plot(bpc, col = color_vector, ylab=\"Intensity\", xlab=\"Retention Time (sec)\", main= 'BPC')\n",
    "legend(\"topright\", legend=unique(as_vector(metadata[,color_by])), col = color_vector, lty=1)\n",
    "dev.off()"
   ]
  },
  {
   "cell_type": "markdown",
   "metadata": {},
   "source": [
    "## 2.4 Chromatographic peak detection"
   ]
  },
  {
   "cell_type": "markdown",
   "metadata": {},
   "source": [
    "### Testing peak detection parameters <==== User inputs required"
   ]
  },
  {
   "cell_type": "markdown",
   "metadata": {},
   "source": [
    "#### Peaks for visualize the samples\n",
    "Please enter ranges of masses (*m/z*) and retention times (*rt*, in seconds) for a couple of peaks to visualize how your data respond to the selected parameters"
   ]
  },
  {
   "cell_type": "code",
   "execution_count": 10,
   "metadata": {},
   "outputs": [],
   "source": [
    "mzr1  <- c(300, 600)\n",
    "rt1  <- c(900, 1200)"
   ]
  },
  {
   "cell_type": "markdown",
   "metadata": {},
   "source": [
    "#### Parameters for peak picking"
   ]
  },
  {
   "cell_type": "code",
   "execution_count": 11,
   "metadata": {},
   "outputs": [],
   "source": [
    "cwp <- CentWaveParam(\n",
    "    peakwidth = c(10, 100), \n",
    "    ppm = 25,\n",
    "    snthresh = 0,\n",
    "    noise = 1e4,\n",
    "    mzdiff = -0.001,\n",
    "    prefilter = c(1, 100))"
   ]
  },
  {
   "cell_type": "markdown",
   "metadata": {},
   "source": [
    "#### Testing parameters"
   ]
  },
  {
   "cell_type": "code",
   "execution_count": 12,
   "metadata": {},
   "outputs": [
    {
     "data": {
      "image/png": "[encoded data removed]",
      "text/plain": [
       "Plot with title \"300.0000 - 599.9998\""
      ]
     },
     "metadata": {
      "image/png": {
       "height": 420,
       "width": 420
      }
     },
     "output_type": "display_data"
    }
   ],
   "source": [
    "data %>% \n",
    "    filterRt(rt = rt1) %>% \n",
    "    filterMz(mz = mzr1) %>% \n",
    "    chromatogram(., aggregationFun=\"max\") %>% \n",
    "      findChromPeaks(., param = cwp) %>% \n",
    "      plot(col = \"indianred2\", \n",
    "           ylab=\"Intensity\", xlab=\"Retention Time (sec)\",\n",
    "           font.lab=1, cex.lab=1, cex.axis=1, font.main=1, cex.main=1)"
   ]
  },
  {
   "cell_type": "markdown",
   "metadata": {},
   "source": [
    "#### Apply on full data"
   ]
  },
  {
   "cell_type": "code",
   "execution_count": 13,
   "metadata": {},
   "outputs": [
    {
     "name": "stderr",
     "output_type": "stream",
     "text": [
      "\n",
      "Attaching package: 'BiocGenerics'\n",
      "\n",
      "The following objects are masked from 'package:parallel':\n",
      "\n",
      "    clusterApply, clusterApplyLB, clusterCall, clusterEvalQ,\n",
      "    clusterExport, clusterMap, parApply, parCapply, parLapply,\n",
      "    parLapplyLB, parRapply, parSapply, parSapplyLB\n",
      "\n",
      "The following objects are masked from 'package:stats':\n",
      "\n",
      "    IQR, mad, sd, var, xtabs\n",
      "\n",
      "The following objects are masked from 'package:base':\n",
      "\n",
      "    anyDuplicated, append, as.data.frame, basename, cbind, colnames,\n",
      "    dirname, do.call, duplicated, eval, evalq, Filter, Find, get, grep,\n",
      "    grepl, intersect, is.unsorted, lapply, Map, mapply, match, mget,\n",
      "    order, paste, pmax, pmax.int, pmin, pmin.int, Position, rank,\n",
      "    rbind, Reduce, rownames, sapply, setdiff, sort, table, tapply,\n",
      "    union, unique, unsplit, which.max, which.min\n",
      "\n",
      "Welcome to Bioconductor\n",
      "\n",
      "    Vignettes contain introductory material; view with\n",
      "    'browseVignettes()'. To cite Bioconductor, see\n",
      "    'citation(\"Biobase\")', and for packages 'citation(\"pkgname\")'.\n",
      "\n",
      "\n",
      "Attaching package: 'S4Vectors'\n",
      "\n",
      "The following objects are masked from 'package:base':\n",
      "\n",
      "    expand.grid, I, unname\n",
      "\n",
      "\n",
      "Attaching package: 'ProtGenerics'\n",
      "\n",
      "The following object is masked from 'package:stats':\n",
      "\n",
      "    smooth\n",
      "\n",
      "\n",
      "This is MSnbase version 2.18.0 \n",
      "  Visit https://lgatto.github.io/MSnbase/ to get started.\n",
      "\n",
      "\n",
      "Attaching package: 'MSnbase'\n",
      "\n",
      "The following object is masked from 'package:base':\n",
      "\n",
      "    trimws\n",
      "\n",
      "\n",
      "This is xcms version 3.14.1 \n",
      "\n",
      "\n",
      "Attaching package: 'xcms'\n",
      "\n",
      "The following object is masked from 'package:stats':\n",
      "\n",
      "    sigma\n",
      "\n",
      "Detecting mass traces at 25 ppm ... OK\n",
      "Detecting chromatographic peaks in 530 regions of interest ... OK: 462 found.\n",
      "\n",
      "\n",
      "Attaching package: 'BiocGenerics'\n",
      "\n",
      "The following objects are masked from 'package:parallel':\n",
      "\n",
      "    clusterApply, clusterApplyLB, clusterCall, clusterEvalQ,\n",
      "    clusterExport, clusterMap, parApply, parCapply, parLapply,\n",
      "    parLapplyLB, parRapply, parSapply, parSapplyLB\n",
      "\n",
      "The following objects are masked from 'package:stats':\n",
      "\n",
      "    IQR, mad, sd, var, xtabs\n",
      "\n",
      "The following objects are masked from 'package:base':\n",
      "\n",
      "    anyDuplicated, append, as.data.frame, basename, cbind, colnames,\n",
      "    dirname, do.call, duplicated, eval, evalq, Filter, Find, get, grep,\n",
      "    grepl, intersect, is.unsorted, lapply, Map, mapply, match, mget,\n",
      "    order, paste, pmax, pmax.int, pmin, pmin.int, Position, rank,\n",
      "    rbind, Reduce, rownames, sapply, setdiff, sort, table, tapply,\n",
      "    union, unique, unsplit, which.max, which.min\n",
      "\n",
      "Welcome to Bioconductor\n",
      "\n",
      "    Vignettes contain introductory material; view with\n",
      "    'browseVignettes()'. To cite Bioconductor, see\n",
      "    'citation(\"Biobase\")', and for packages 'citation(\"pkgname\")'.\n",
      "\n",
      "\n",
      "Attaching package: 'S4Vectors'\n",
      "\n",
      "The following objects are masked from 'package:base':\n",
      "\n",
      "    expand.grid, I, unname\n",
      "\n",
      "\n",
      "Attaching package: 'ProtGenerics'\n",
      "\n",
      "The following object is masked from 'package:stats':\n",
      "\n",
      "    smooth\n",
      "\n",
      "\n",
      "This is MSnbase version 2.18.0 \n",
      "  Visit https://lgatto.github.io/MSnbase/ to get started.\n",
      "\n",
      "\n",
      "Attaching package: 'MSnbase'\n",
      "\n",
      "The following object is masked from 'package:base':\n",
      "\n",
      "    trimws\n",
      "\n",
      "\n",
      "This is xcms version 3.14.1 \n",
      "\n",
      "\n",
      "Attaching package: 'xcms'\n",
      "\n",
      "The following object is masked from 'package:stats':\n",
      "\n",
      "    sigma\n",
      "\n",
      "Detecting mass traces at 25 ppm ... OK\n",
      "Detecting chromatographic peaks in 739 regions of interest ... OK: 710 found.\n",
      "\n",
      "\n",
      "Attaching package: 'BiocGenerics'\n",
      "\n",
      "The following objects are masked from 'package:parallel':\n",
      "\n",
      "    clusterApply, clusterApplyLB, clusterCall, clusterEvalQ,\n",
      "    clusterExport, clusterMap, parApply, parCapply, parLapply,\n",
      "    parLapplyLB, parRapply, parSapply, parSapplyLB\n",
      "\n",
      "The following objects are masked from 'package:stats':\n",
      "\n",
      "    IQR, mad, sd, var, xtabs\n",
      "\n",
      "The following objects are masked from 'package:base':\n",
      "\n",
      "    anyDuplicated, append, as.data.frame, basename, cbind, colnames,\n",
      "    dirname, do.call, duplicated, eval, evalq, Filter, Find, get, grep,\n",
      "    grepl, intersect, is.unsorted, lapply, Map, mapply, match, mget,\n",
      "    order, paste, pmax, pmax.int, pmin, pmin.int, Position, rank,\n",
      "    rbind, Reduce, rownames, sapply, setdiff, sort, table, tapply,\n",
      "    union, unique, unsplit, which.max, which.min\n",
      "\n",
      "Welcome to Bioconductor\n",
      "\n",
      "    Vignettes contain introductory material; view with\n",
      "    'browseVignettes()'. To cite Bioconductor, see\n",
      "    'citation(\"Biobase\")', and for packages 'citation(\"pkgname\")'.\n",
      "\n",
      "\n",
      "Attaching package: 'S4Vectors'\n",
      "\n",
      "The following objects are masked from 'package:base':\n",
      "\n",
      "    expand.grid, I, unname\n",
      "\n",
      "\n",
      "Attaching package: 'ProtGenerics'\n",
      "\n",
      "The following object is masked from 'package:stats':\n",
      "\n",
      "    smooth\n",
      "\n",
      "\n",
      "This is MSnbase version 2.18.0 \n",
      "  Visit https://lgatto.github.io/MSnbase/ to get started.\n",
      "\n",
      "\n",
      "Attaching package: 'MSnbase'\n",
      "\n",
      "The following object is masked from 'package:base':\n",
      "\n",
      "    trimws\n",
      "\n",
      "\n",
      "This is xcms version 3.14.1 \n",
      "\n",
      "\n",
      "Attaching package: 'xcms'\n",
      "\n",
      "The following object is masked from 'package:stats':\n",
      "\n",
      "    sigma\n",
      "\n",
      "Error in (function (x)  : attempt to apply non-function\n",
      "Detecting mass traces at 25 ppm ... OK\n",
      "Detecting chromatographic peaks in 672 regions of interest ... OK: 689 found.\n",
      "\n",
      "\n",
      "Attaching package: 'BiocGenerics'\n",
      "\n",
      "The following objects are masked from 'package:parallel':\n",
      "\n",
      "    clusterApply, clusterApplyLB, clusterCall, clusterEvalQ,\n",
      "    clusterExport, clusterMap, parApply, parCapply, parLapply,\n",
      "    parLapplyLB, parRapply, parSapply, parSapplyLB\n",
      "\n",
      "The following objects are masked from 'package:stats':\n",
      "\n",
      "    IQR, mad, sd, var, xtabs\n",
      "\n",
      "The following objects are masked from 'package:base':\n",
      "\n",
      "    anyDuplicated, append, as.data.frame, basename, cbind, colnames,\n",
      "    dirname, do.call, duplicated, eval, evalq, Filter, Find, get, grep,\n",
      "    grepl, intersect, is.unsorted, lapply, Map, mapply, match, mget,\n",
      "    order, paste, pmax, pmax.int, pmin, pmin.int, Position, rank,\n",
      "    rbind, Reduce, rownames, sapply, setdiff, sort, table, tapply,\n",
      "    union, unique, unsplit, which.max, which.min\n",
      "\n",
      "Welcome to Bioconductor\n",
      "\n",
      "    Vignettes contain introductory material; view with\n",
      "    'browseVignettes()'. To cite Bioconductor, see\n",
      "    'citation(\"Biobase\")', and for packages 'citation(\"pkgname\")'.\n",
      "\n",
      "\n",
      "Attaching package: 'S4Vectors'\n",
      "\n",
      "The following objects are masked from 'package:base':\n",
      "\n",
      "    expand.grid, I, unname\n",
      "\n",
      "\n",
      "Attaching package: 'ProtGenerics'\n",
      "\n",
      "The following object is masked from 'package:stats':\n",
      "\n",
      "    smooth\n",
      "\n",
      "\n",
      "This is MSnbase version 2.18.0 \n",
      "  Visit https://lgatto.github.io/MSnbase/ to get started.\n",
      "\n",
      "\n",
      "Attaching package: 'MSnbase'\n",
      "\n",
      "The following object is masked from 'package:base':\n",
      "\n",
      "    trimws\n",
      "\n",
      "\n",
      "This is xcms version 3.14.1 \n",
      "\n",
      "\n",
      "Attaching package: 'xcms'\n",
      "\n",
      "The following object is masked from 'package:stats':\n",
      "\n",
      "    sigma\n",
      "\n",
      "Detecting mass traces at 25 ppm ... OK\n",
      "Detecting chromatographic peaks in 591 regions of interest ... OK: 610 found.\n",
      "\n"
     ]
    }
   ],
   "source": [
    "data <- findChromPeaks(data, param = cwp)"
   ]
  },
  {
   "cell_type": "markdown",
   "metadata": {},
   "source": [
    "#### Extracting peak information"
   ]
  },
  {
   "cell_type": "code",
   "execution_count": 33,
   "metadata": {},
   "outputs": [
    {
     "data": {
      "text/html": [
       "<table class=\"dataframe\">\n",
       "<caption>A data.frame: 4 × 5</caption>\n",
       "<thead>\n",
       "\t<tr><th scope=col>sample_index</th><th scope=col>total_peaks_detected</th><th scope=col>SampleID</th><th scope=col>treatment</th><th scope=col>time</th></tr>\n",
       "\t<tr><th scope=col>&lt;dbl&gt;</th><th scope=col>&lt;int&gt;</th><th scope=col>&lt;chr&gt;</th><th scope=col>&lt;chr&gt;</th><th scope=col>&lt;chr&gt;</th></tr>\n",
       "</thead>\n",
       "<tbody>\n",
       "\t<tr><td>1</td><td>1189</td><td>Contro-T1  </td><td>Control </td><td>T1</td></tr>\n",
       "\t<tr><td>2</td><td>1074</td><td>Contro-TF  </td><td>Control </td><td>TF</td></tr>\n",
       "\t<tr><td>3</td><td>1207</td><td>Inoculum-T1</td><td>Inoculum</td><td>T1</td></tr>\n",
       "\t<tr><td>4</td><td>1116</td><td>Inoculum-TF</td><td>Inoculum</td><td>TF</td></tr>\n",
       "</tbody>\n",
       "</table>\n"
      ],
      "text/latex": [
       "A data.frame: 4 × 5\n",
       "\\begin{tabular}{lllll}\n",
       " sample\\_index & total\\_peaks\\_detected & SampleID & treatment & time\\\\\n",
       " <dbl> & <int> & <chr> & <chr> & <chr>\\\\\n",
       "\\hline\n",
       "\t 1 & 1189 & Contro-T1   & Control  & T1\\\\\n",
       "\t 2 & 1074 & Contro-TF   & Control  & TF\\\\\n",
       "\t 3 & 1207 & Inoculum-T1 & Inoculum & T1\\\\\n",
       "\t 4 & 1116 & Inoculum-TF & Inoculum & TF\\\\\n",
       "\\end{tabular}\n"
      ],
      "text/markdown": [
       "\n",
       "A data.frame: 4 × 5\n",
       "\n",
       "| sample_index &lt;dbl&gt; | total_peaks_detected &lt;int&gt; | SampleID &lt;chr&gt; | treatment &lt;chr&gt; | time &lt;chr&gt; |\n",
       "|---|---|---|---|---|\n",
       "| 1 | 1189 | Contro-T1   | Control  | T1 |\n",
       "| 2 | 1074 | Contro-TF   | Control  | TF |\n",
       "| 3 | 1207 | Inoculum-T1 | Inoculum | T1 |\n",
       "| 4 | 1116 | Inoculum-TF | Inoculum | TF |\n",
       "\n"
      ],
      "text/plain": [
       "  sample_index total_peaks_detected SampleID    treatment time\n",
       "1 1            1189                 Contro-T1   Control   T1  \n",
       "2 2            1074                 Contro-TF   Control   TF  \n",
       "3 3            1207                 Inoculum-T1 Inoculum  T1  \n",
       "4 4            1116                 Inoculum-TF Inoculum  TF  "
      ]
     },
     "metadata": {},
     "output_type": "display_data"
    }
   ],
   "source": [
    "chrom_peaks_df <- as.data.frame(chromPeaks(data)) %>% \n",
    "    count(sample) %>% \n",
    "    rename('sample_index' = 'sample', 'total_peaks_detected' = 'n') %>% \n",
    "    left_join(rowid_to_column(pData(data)), by = c('sample_index' = 'rowid')) %>% \n",
    "    select(-FileName)\n",
    "chrom_peaks_df\n",
    "table_file <- file.path(tables_dir, '2.1_Num_detected_peaks.csv')\n",
    "write_csv(chrom_peaks_df, table_file)"
   ]
  },
  {
   "cell_type": "markdown",
   "metadata": {},
   "source": [
    "#### Plotting the number of detected peaks\n",
    "This figure shows the number of detected peaks in each retention time bin"
   ]
  },
  {
   "cell_type": "code",
   "execution_count": 15,
   "metadata": {},
   "outputs": [
    {
     "data": {
      "text/html": [
       "<strong>png:</strong> 2"
      ],
      "text/latex": [
       "\\textbf{png:} 2"
      ],
      "text/markdown": [
       "**png:** 2"
      ],
      "text/plain": [
       "png \n",
       "  2 "
      ]
     },
     "metadata": {},
     "output_type": "display_data"
    }
   ],
   "source": [
    "figure_file <- file.path(figures_dir, '2.3_Num_detected_peaks.png')\n",
    "png(figure_file, width = 3000, height = 2000, res = 300)\n",
    "colfunc <- colorRampPalette(c(\"lightblue\", \"blue4\"))\n",
    "par(mar=c(5,6,1,1))\n",
    "plotChromPeakImage(data, \n",
    "                   binSize=100, \n",
    "                   xlab=\"Retention time (sec)\", \n",
    "                   col = colfunc(100),\n",
    "                   cex.sub = 0.5,\n",
    "                   yaxt = \"n\")\n",
    "axis(2, \n",
    "     at = seq(0,1, length.out = 4), \n",
    "     labels = pData(data)$SampleID, \n",
    "     cex.axis = 1,\n",
    "     las = 2)\n",
    "dev.off()"
   ]
  },
  {
   "cell_type": "markdown",
   "metadata": {},
   "source": [
    "## 2.5 Alignment"
   ]
  },
  {
   "cell_type": "markdown",
   "metadata": {},
   "source": [
    "### Testing alignment parameters <==== User inputs required\n",
    "This parameters will also be used for correspondence"
   ]
  },
  {
   "cell_type": "code",
   "execution_count": 16,
   "metadata": {},
   "outputs": [],
   "source": [
    "# Defining peak density parameters\n",
    "pdp <- PeakDensityParam(sampleGroups = data$SampleID, \n",
    "                        bw = 30, \n",
    "                        minFraction = 0.5, \n",
    "                        minSamples = 1,\n",
    "                        binSize = 0.25)\n",
    "\n",
    "# Defining peak grouping parameters\n",
    "pgp <- PeakGroupsParam(minFraction = 0.5)"
   ]
  },
  {
   "cell_type": "markdown",
   "metadata": {},
   "source": [
    "#### Plot of adjusted retention time"
   ]
  },
  {
   "cell_type": "code",
   "execution_count": 17,
   "metadata": {},
   "outputs": [
    {
     "name": "stderr",
     "output_type": "stream",
     "text": [
      "Processing 3720 mz slices ... \n",
      "OK\n",
      "\n",
      "Performing retention time correction using 22 peak groups.\n",
      "\n",
      "Warning message in do_adjustRtime_peakGroups(chromPeaks(object, msLevel = msLevel), :\n",
      "\"Span too small for 'loess' and the available number of peak groups, resetting to 0.36\"\n",
      "Warning message:\n",
      "\"Adjusted retention times had to be re-adjusted for some files to ensure them being in the same order than the raw retention times. A call to 'dropAdjustedRtime' might thus fail to restore retention times of chromatographic peaks to their original values. Eventually consider to increase the value of the 'span' parameter.\"\n",
      "Applying retention time adjustment to the identified chromatographic peaks ... \n",
      "OK\n",
      "\n"
     ]
    },
    {
     "data": {
      "image/png": "[encoded data removed]",
      "text/plain": [
       "plot without title"
      ]
     },
     "metadata": {
      "image/png": {
       "height": 420,
       "width": 420
      }
     },
     "output_type": "display_data"
    }
   ],
   "source": [
    "data %>% \n",
    "  filterRt(rt = rt1) %>% \n",
    "  groupChromPeaks(., pdp) %>% \n",
    "  adjustRtime(., param = pgp) %>% \n",
    "  plotAdjustedRtime(.,\n",
    "                  col = color_vector, \n",
    "                  xlab=\"Retention Time (sec)\", \n",
    "                  font.lab=2, cex.lab=2, cex.axis=2, \n",
    "                  font.main=2, cex.main=2, lwd=2)"
   ]
  },
  {
   "cell_type": "code",
   "execution_count": 18,
   "metadata": {},
   "outputs": [
    {
     "name": "stderr",
     "output_type": "stream",
     "text": [
      "Processing 6156 mz slices ... \n",
      "OK\n",
      "\n",
      "Performing retention time correction using 396 peak groups.\n",
      "\n",
      "Applying retention time adjustment to the identified chromatographic peaks ... \n",
      "OK\n",
      "\n"
     ]
    }
   ],
   "source": [
    "## a - Group peaks\n",
    "data <- groupChromPeaks(data, pdp)\n",
    "## b - alignment\n",
    "data <- adjustRtime(data, param = pgp)"
   ]
  },
  {
   "cell_type": "markdown",
   "metadata": {},
   "source": [
    "## 2.6 Correspondence"
   ]
  },
  {
   "cell_type": "markdown",
   "metadata": {},
   "source": [
    "### Peak grouping parameters"
   ]
  },
  {
   "cell_type": "code",
   "execution_count": 19,
   "metadata": {},
   "outputs": [
    {
     "name": "stderr",
     "output_type": "stream",
     "text": [
      "Processing 6156 mz slices ... \n",
      "OK\n",
      "\n"
     ]
    }
   ],
   "source": [
    "## a - Group peaks\n",
    "data <- groupChromPeaks(data, pdp)"
   ]
  },
  {
   "cell_type": "markdown",
   "metadata": {},
   "source": [
    "## 2.7 Gap filling"
   ]
  },
  {
   "cell_type": "markdown",
   "metadata": {},
   "source": [
    "Missing values occur if no chromatographic peak was assigned to a feature either because peak detection failed, or because the corresponding ion is absent in the respective sample."
   ]
  },
  {
   "cell_type": "code",
   "execution_count": 20,
   "metadata": {},
   "outputs": [
    {
     "name": "stderr",
     "output_type": "stream",
     "text": [
      "Defining peak areas for filling-in .\n",
      ".\n",
      ".\n",
      ".\n",
      " OK\n",
      "Start integrating peak areas from original files\n",
      "\n",
      "Requesting 660 peaks from Control-T1.mzXML ... got 500.\n",
      "\n",
      "Requesting 796 peaks from Control-TF.mzXML ... got 612.\n",
      "\n",
      "Requesting 634 peaks from Inoculum-T1.mzXML ... got 497.\n",
      "\n",
      "Requesting 744 peaks from Inoculum-TF.mzXML ... got 506.\n",
      "\n"
     ]
    }
   ],
   "source": [
    "## determine the number of missing values\n",
    "number_na_i = sum(is.na(featureValues(data)))\n",
    "## a - define parameter\n",
    "fpp <- FillChromPeaksParam(ppm = 2, expandMz = 0.25)\n",
    "## b - fill in\n",
    "data <- fillChromPeaks(data, param=fpp)"
   ]
  },
  {
   "cell_type": "markdown",
   "metadata": {},
   "source": [
    "#### Number of peaks gap filled"
   ]
  },
  {
   "cell_type": "code",
   "execution_count": 21,
   "metadata": {},
   "outputs": [
    {
     "name": "stdout",
     "output_type": "stream",
     "text": [
      "[1] \"The number of gap filled peaks was 2115\"\n"
     ]
    }
   ],
   "source": [
    "## remaining number of na values\n",
    "number_na_f = sum(is.na(featureValues(data)))\n",
    "print(paste('The number of gap filled peaks was', number_na_i - number_na_f))"
   ]
  },
  {
   "cell_type": "markdown",
   "metadata": {},
   "source": [
    "## 2.8 Feature Extraction"
   ]
  },
  {
   "cell_type": "code",
   "execution_count": 39,
   "metadata": {},
   "outputs": [],
   "source": [
    "## extract feature values after filling in\n",
    "feature_abundance_matrix <- as.data.frame(featureValues(data, value=\"into\", method=\"maxint\")) %>% \n",
    "    rownames_to_column(var = 'FeatureID')\n",
    "## replace NA with zero\n",
    "feature_abundance_matrix[is.na(feature_abundance_matrix)] <- 0\n",
    "## replace file name with sample name\n",
    "colnames(feature_abundance_matrix)[-1] <- paste0(metadata$SampleID, '_peak_area')\n",
    "\n",
    "table_file <- file.path(tables_dir, '2.2_Feature_abundance_matrix.csv')\n",
    "write_csv(feature_abundance_matrix, table_file)"
   ]
  },
  {
   "cell_type": "markdown",
   "metadata": {},
   "source": [
    "## 2.9 Feature Definition"
   ]
  },
  {
   "cell_type": "code",
   "execution_count": 42,
   "metadata": {},
   "outputs": [],
   "source": [
    "## get feature definitions and intensities\n",
    "feature_definition <- as.data.frame(featureDefinitions(data)) %>% \n",
    "    rownames_to_column(var = 'FeatureID') %>% \n",
    "    select(-peakidx) %>% \n",
    "    left_join(feature_abundance_matrix, by = 'FeatureID')\n",
    "\n",
    "table_file <- file.path(tables_dir, '2.3_Feature_definition.csv')\n",
    "write_csv(feature_definition, table_file)"
   ]
  },
  {
   "cell_type": "markdown",
   "metadata": {},
   "source": [
    "## 2.10 Saving Spectra information for downstream analysis"
   ]
  },
  {
   "cell_type": "code",
   "execution_count": 45,
   "metadata": {},
   "outputs": [],
   "source": [
    "## spectra information of pre-processed data\n",
    "## these data are useful for cloud plots\n",
    "spectra_table <- fData(data) %>% \n",
    "    rownames_to_column(var = 'SpectraID')\n",
    "table_file <- file.path(tables_dir, '2.4_Spectra_information.csv')\n",
    "write_csv(spectra_table, table_file)"
   ]
  },
  {
   "cell_type": "markdown",
   "metadata": {},
   "source": [
    "## 2.10 Extracting MS2"
   ]
  },
  {
   "cell_type": "code",
   "execution_count": 27,
   "metadata": {},
   "outputs": [],
   "source": [
    "## export the individual spectra into a .mgf file\n",
    "filteredMs2Spectra <- featureSpectra(data, return.type = \"MSpectra\", msLevel = 2)\n",
    "filteredMs2Spectra <- clean(filteredMs2Spectra, all = TRUE)\n",
    "filteredMs2Spectra <- formatSpectraForGNPS(filteredMs2Spectra) # this is one of the custom funtions\n",
    "filteredMs2Spectra_consensus <- combineSpectra(filteredMs2Spectra, \n",
    "                                               fcol = \"feature_id\", \n",
    "                                               method = consensusSpectrum, \n",
    "                                               mzd = 0, \n",
    "                                               minProp = 0.5, \n",
    "                                               ppm = 25,\n",
    "                                               intensityFun = median,\n",
    "                                               mzFun = median)\n",
    "\n",
    "mod_writeMgfDataFile(filteredMs2Spectra_consensus,\n",
    "                          file.path('..', '..', 'data', 'ms2_spectrum_consensus.mgf'))"
   ]
  },
  {
   "cell_type": "markdown",
   "metadata": {},
   "source": [
    "## 2.11 Saving pre-processed data"
   ]
  },
  {
   "cell_type": "code",
   "execution_count": 46,
   "metadata": {},
   "outputs": [],
   "source": [
    "save.image(file.path('..', '..', 'data', 'xcms_processed_data.RData'))"
   ]
  }
 ],
 "metadata": {
  "kernelspec": {
   "display_name": "R",
   "language": "R",
   "name": "ir"
  },
  "language_info": {
   "codemirror_mode": "r",
   "file_extension": ".r",
   "mimetype": "text/x-r-source",
   "name": "R",
   "pygments_lexer": "r",
   "version": "4.1.1"
  }
 },
 "nbformat": 4,
 "nbformat_minor": 4
}
