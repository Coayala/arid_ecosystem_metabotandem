{
 "cells": [
  {
   "cell_type": "markdown",
   "metadata": {},
   "source": [
    "# **MetaboTandem**"
   ]
  },
  {
   "cell_type": "markdown",
   "metadata": {},
   "source": [
    "# A. Data Pre-processing"
   ]
  },
  {
   "cell_type": "markdown",
   "metadata": {},
   "source": [
    "# 1. Data import\n",
    "\n",
    "This Notebook allows to import LC-MS/MS spectra using the R package *xcms*."
   ]
  },
  {
   "cell_type": "markdown",
   "metadata": {},
   "source": [
    "## 1.1 Load required libraries"
   ]
  },
  {
   "cell_type": "code",
   "execution_count": 1,
   "metadata": {
    "scrolled": true
   },
   "outputs": [
    {
     "name": "stderr",
     "output_type": "stream",
     "text": [
      "Loading required package: BiocParallel\n",
      "\n",
      "Loading required package: MSnbase\n",
      "\n",
      "Loading required package: BiocGenerics\n",
      "\n",
      "\n",
      "Attaching package: 'BiocGenerics'\n",
      "\n",
      "\n",
      "The following objects are masked from 'package:stats':\n",
      "\n",
      "    IQR, mad, sd, var, xtabs\n",
      "\n",
      "\n",
      "The following objects are masked from 'package:base':\n",
      "\n",
      "    Filter, Find, Map, Position, Reduce, anyDuplicated, append,\n",
      "    as.data.frame, basename, cbind, colnames, dirname, do.call,\n",
      "    duplicated, eval, evalq, get, grep, grepl, intersect, is.unsorted,\n",
      "    lapply, mapply, match, mget, order, paste, pmax, pmax.int, pmin,\n",
      "    pmin.int, rank, rbind, rownames, sapply, setdiff, sort, table,\n",
      "    tapply, union, unique, unsplit, which.max, which.min\n",
      "\n",
      "\n",
      "Loading required package: Biobase\n",
      "\n",
      "Welcome to Bioconductor\n",
      "\n",
      "    Vignettes contain introductory material; view with\n",
      "    'browseVignettes()'. To cite Bioconductor, see\n",
      "    'citation(\"Biobase\")', and for packages 'citation(\"pkgname\")'.\n",
      "\n",
      "\n",
      "Loading required package: mzR\n",
      "\n",
      "Loading required package: Rcpp\n",
      "\n",
      "Loading required package: S4Vectors\n",
      "\n",
      "Loading required package: stats4\n",
      "\n",
      "\n",
      "Attaching package: 'S4Vectors'\n",
      "\n",
      "\n",
      "The following objects are masked from 'package:base':\n",
      "\n",
      "    I, expand.grid, unname\n",
      "\n",
      "\n",
      "Loading required package: ProtGenerics\n",
      "\n",
      "\n",
      "Attaching package: 'ProtGenerics'\n",
      "\n",
      "\n",
      "The following object is masked from 'package:stats':\n",
      "\n",
      "    smooth\n",
      "\n",
      "\n",
      "\n",
      "This is MSnbase version 2.20.4 \n",
      "  Visit https://lgatto.github.io/MSnbase/ to get started.\n",
      "\n",
      "\n",
      "\n",
      "Attaching package: 'MSnbase'\n",
      "\n",
      "\n",
      "The following object is masked from 'package:base':\n",
      "\n",
      "    trimws\n",
      "\n",
      "\n",
      "\n",
      "This is xcms version 3.16.1 \n",
      "\n",
      "\n",
      "\n",
      "Attaching package: 'xcms'\n",
      "\n",
      "\n",
      "The following object is masked from 'package:stats':\n",
      "\n",
      "    sigma\n",
      "\n",
      "\n",
      "-- \u001b[1mAttaching packages\u001b[22m --------------------------------------- tidyverse 1.3.1 --\n",
      "\n",
      "\u001b[32mv\u001b[39m \u001b[34mggplot2\u001b[39m 3.3.5     \u001b[32mv\u001b[39m \u001b[34mpurrr  \u001b[39m 0.3.4\n",
      "\u001b[32mv\u001b[39m \u001b[34mtibble \u001b[39m 3.1.6     \u001b[32mv\u001b[39m \u001b[34mdplyr  \u001b[39m 1.0.8\n",
      "\u001b[32mv\u001b[39m \u001b[34mtidyr  \u001b[39m 1.2.0     \u001b[32mv\u001b[39m \u001b[34mstringr\u001b[39m 1.4.0\n",
      "\u001b[32mv\u001b[39m \u001b[34mreadr  \u001b[39m 2.1.2     \u001b[32mv\u001b[39m \u001b[34mforcats\u001b[39m 0.5.1\n",
      "\n",
      "-- \u001b[1mConflicts\u001b[22m ------------------------------------------ tidyverse_conflicts() --\n",
      "\u001b[31mx\u001b[39m \u001b[34mggplot2\u001b[39m::\u001b[32mPosition()\u001b[39m masks \u001b[34mBiocGenerics\u001b[39m::Position(), \u001b[34mbase\u001b[39m::Position()\n",
      "\u001b[31mx\u001b[39m \u001b[34mdplyr\u001b[39m::\u001b[32mcollect()\u001b[39m    masks \u001b[34mxcms\u001b[39m::collect()\n",
      "\u001b[31mx\u001b[39m \u001b[34mdplyr\u001b[39m::\u001b[32mcombine()\u001b[39m    masks \u001b[34mMSnbase\u001b[39m::combine(), \u001b[34mBiobase\u001b[39m::combine(), \u001b[34mBiocGenerics\u001b[39m::combine()\n",
      "\u001b[31mx\u001b[39m \u001b[34mtidyr\u001b[39m::\u001b[32mexpand()\u001b[39m     masks \u001b[34mS4Vectors\u001b[39m::expand()\n",
      "\u001b[31mx\u001b[39m \u001b[34mdplyr\u001b[39m::\u001b[32mfilter()\u001b[39m     masks \u001b[34mstats\u001b[39m::filter()\n",
      "\u001b[31mx\u001b[39m \u001b[34mdplyr\u001b[39m::\u001b[32mfirst()\u001b[39m      masks \u001b[34mS4Vectors\u001b[39m::first()\n",
      "\u001b[31mx\u001b[39m \u001b[34mdplyr\u001b[39m::\u001b[32mgroups()\u001b[39m     masks \u001b[34mxcms\u001b[39m::groups()\n",
      "\u001b[31mx\u001b[39m \u001b[34mdplyr\u001b[39m::\u001b[32mlag()\u001b[39m        masks \u001b[34mstats\u001b[39m::lag()\n",
      "\u001b[31mx\u001b[39m \u001b[34mpurrr\u001b[39m::\u001b[32mreduce()\u001b[39m     masks \u001b[34mMSnbase\u001b[39m::reduce()\n",
      "\u001b[31mx\u001b[39m \u001b[34mdplyr\u001b[39m::\u001b[32mrename()\u001b[39m     masks \u001b[34mS4Vectors\u001b[39m::rename()\n",
      "\n"
     ]
    }
   ],
   "source": [
    "dyn.load(\"/opt/ohpc/pub/libs/gnu8/openmpi3/hdf5/1.10.5/lib/libhdf5_hl.so.100\")\n",
    "library(xcms)\n",
    "library(tidyverse)\n",
    "source('pre_processing_functions.R')"
   ]
  },
  {
   "cell_type": "markdown",
   "metadata": {},
   "source": [
    "## 1.2 User inputs required <===="
   ]
  },
  {
   "cell_type": "markdown",
   "metadata": {},
   "source": [
    "Enter below the required data according to the description.\n",
    "- **data_dir :** Path to the directory containing the data files in `.mzML` or `.mzXML` format. *Important:* Make sure that the spectra data is in **centroid** mode.\n",
    "- **metadata_file:** Path to the metadatafile containing the paths to each of the spectra files and other sample information"
   ]
  },
  {
   "cell_type": "code",
   "execution_count": 2,
   "metadata": {},
   "outputs": [],
   "source": [
    "data_dir <- '/xdisk/tfaily/cayalaortiz/arid_ecosystem/data/RP/RP_lab_nat/'\n",
    "metadata_file <- '/xdisk/tfaily/cayalaortiz/arid_ecosystem/data/metadata_rp.csv'"
   ]
  },
  {
   "cell_type": "markdown",
   "metadata": {},
   "source": [
    "## 1.3 Import data\n",
    "Importing spectra data to be used in the MetaboTandem pipeline."
   ]
  },
  {
   "cell_type": "code",
   "execution_count": 3,
   "metadata": {
    "scrolled": true
   },
   "outputs": [
    {
     "name": "stderr",
     "output_type": "stream",
     "text": [
      "\u001b[1mRows: \u001b[22m\u001b[34m36\u001b[39m \u001b[1mColumns: \u001b[22m\u001b[34m4\u001b[39m\n",
      "\u001b[36m--\u001b[39m \u001b[1mColumn specification\u001b[22m \u001b[36m--------------------------------------------------------\u001b[39m\n",
      "\u001b[1mDelimiter:\u001b[22m \",\"\n",
      "\u001b[31mchr\u001b[39m (4): Filename, SampleID, treatment, time\n",
      "\n",
      "\u001b[36mi\u001b[39m Use `spec()` to retrieve the full column specification for this data.\n",
      "\u001b[36mi\u001b[39m Specify the column types or set `show_col_types = FALSE` to quiet this message.\n",
      "Reading 15443 spectra from file RP_S37.mzML\n",
      "\n",
      "Reading 15442 spectra from file RP_S38.mzML\n",
      "\n",
      "Reading 15437 spectra from file RP_S39.mzML\n",
      "\n",
      "Reading 15454 spectra from file RP_S40.mzML\n",
      "\n",
      "Reading 15453 spectra from file RP_S41.mzML\n",
      "\n",
      "Reading 15446 spectra from file RP_S42.mzML\n",
      "\n",
      "Reading 15454 spectra from file RP_S43.mzML\n",
      "\n",
      "Reading 15443 spectra from file RP_S44.mzML\n",
      "\n",
      "Reading 15452 spectra from file RP_S45.mzML\n",
      "\n",
      "Reading 15466 spectra from file RP_S46.mzML\n",
      "\n",
      "Reading 15472 spectra from file RP_S47.mzML\n",
      "\n",
      "Reading 15463 spectra from file RP_S48.mzML\n",
      "\n",
      "Reading 15468 spectra from file RP_S49.mzML\n",
      "\n",
      "Reading 15465 spectra from file RP_S50.mzML\n",
      "\n",
      "Reading 15468 spectra from file RP_S51.mzML\n",
      "\n",
      "Reading 15446 spectra from file RP_S52.mzML\n",
      "\n",
      "Reading 15459 spectra from file RP_S53.mzML\n",
      "\n",
      "Reading 15449 spectra from file RP_S54.mzML\n",
      "\n",
      "Reading 15475 spectra from file RP_S55.mzML\n",
      "\n",
      "Reading 15463 spectra from file RP_S56.mzML\n",
      "\n",
      "Reading 15451 spectra from file RP_S57.mzML\n",
      "\n",
      "Reading 15452 spectra from file RP_S58.mzML\n",
      "\n",
      "Reading 15432 spectra from file RP_S59.mzML\n",
      "\n",
      "Reading 15440 spectra from file RP_S60.mzML\n",
      "\n",
      "Reading 15439 spectra from file RP_S61.mzML\n",
      "\n",
      "Reading 15468 spectra from file RP_S62.mzML\n",
      "\n",
      "Reading 15440 spectra from file RP_S63.mzML\n",
      "\n",
      "Reading 15460 spectra from file RP_S64.mzML\n",
      "\n",
      "Reading 15436 spectra from file RP_S65.mzML\n",
      "\n",
      "Reading 15439 spectra from file RP_S66.mzML\n",
      "\n",
      "Reading 15435 spectra from file RP_S67.mzML\n",
      "\n",
      "Reading 15434 spectra from file RP_S68.mzML\n",
      "\n",
      "Reading 15441 spectra from file RP_S69.mzML\n",
      "\n",
      "Reading 15423 spectra from file RP_S70.mzML\n",
      "\n",
      "Reading 15424 spectra from file RP_S71.mzML\n",
      "\n",
      "Reading 15430 spectra from file RP_S72.mzML\n",
      "\n"
     ]
    }
   ],
   "source": [
    "data <- load_spectra_data(data_dir, metadata_file, format = 'mzML')"
   ]
  },
  {
   "cell_type": "markdown",
   "metadata": {},
   "source": [
    "Checking that data is correctly load"
   ]
  },
  {
   "cell_type": "code",
   "execution_count": 4,
   "metadata": {},
   "outputs": [
    {
     "name": "stdout",
     "output_type": "stream",
     "text": [
      "$spectra_data\n",
      "MSn experiment data (\"OnDiskMSnExp\")\n",
      "Object size in memory: 155.92 Mb\n",
      "- - - Spectra data - - -\n",
      " MS level(s): 1 2 \n",
      " Number of spectra: 556162 \n",
      " MSn retention times: 0:00 - 21:00 minutes\n",
      "- - - Processing information - - -\n",
      "Data loaded [Thu Apr 21 09:13:20 2022] \n",
      " MSnbase version: 2.20.4 \n",
      "- - - Meta data  - - -\n",
      "phenoData\n",
      "  rowNames: 1 2 ... 3 (36 total)\n",
      "  varLabels: Filename SampleID treatment time\n",
      "  varMetadata: labelDescription\n",
      "Loaded from:\n",
      "  [1] RP_S37.mzML...  [36] RP_S72.mzML\n",
      "  Use 'fileNames(.)' to see all files.\n",
      "protocolData: none\n",
      "featureData\n",
      "  featureNames: F01.S00001 F01.S00002 ... F36.S15430 (556162 total)\n",
      "  fvarLabels: fileIdx spIdx ... spectrum (35 total)\n",
      "  fvarMetadata: labelDescription\n",
      "experimentData: use 'experimentData(object)'\n",
      "\n",
      "$metadata\n",
      "\u001b[90m# A tibble: 36 x 4\u001b[39m\n",
      "   Filename                                             SampleID treatment time \n",
      "   \u001b[3m\u001b[90m<chr>\u001b[39m\u001b[23m                                                \u001b[3m\u001b[90m<chr>\u001b[39m\u001b[23m    \u001b[3m\u001b[90m<chr>\u001b[39m\u001b[23m     \u001b[3m\u001b[90m<chr>\u001b[39m\u001b[23m\n",
      "\u001b[90m 1\u001b[39m /xdisk/tfaily/cayalaortiz/arid_ecosystem/data/RP/RP~ S37      CTR       T0   \n",
      "\u001b[90m 2\u001b[39m /xdisk/tfaily/cayalaortiz/arid_ecosystem/data/RP/RP~ S38      CTR       T0   \n",
      "\u001b[90m 3\u001b[39m /xdisk/tfaily/cayalaortiz/arid_ecosystem/data/RP/RP~ S39      CTR       T0   \n",
      "\u001b[90m 4\u001b[39m /xdisk/tfaily/cayalaortiz/arid_ecosystem/data/RP/RP~ S40      CTR       T0   \n",
      "\u001b[90m 5\u001b[39m /xdisk/tfaily/cayalaortiz/arid_ecosystem/data/RP/RP~ S41      CTR       T1   \n",
      "\u001b[90m 6\u001b[39m /xdisk/tfaily/cayalaortiz/arid_ecosystem/data/RP/RP~ S42      CTR       T1   \n",
      "\u001b[90m 7\u001b[39m /xdisk/tfaily/cayalaortiz/arid_ecosystem/data/RP/RP~ S43      CTR       T1   \n",
      "\u001b[90m 8\u001b[39m /xdisk/tfaily/cayalaortiz/arid_ecosystem/data/RP/RP~ S44      CTR       T1   \n",
      "\u001b[90m 9\u001b[39m /xdisk/tfaily/cayalaortiz/arid_ecosystem/data/RP/RP~ S45      CTR       T2   \n",
      "\u001b[90m10\u001b[39m /xdisk/tfaily/cayalaortiz/arid_ecosystem/data/RP/RP~ S46      CTR       T2   \n",
      "\u001b[90m# ... with 26 more rows\u001b[39m\n",
      "\n"
     ]
    }
   ],
   "source": [
    "show(data)"
   ]
  },
  {
   "cell_type": "markdown",
   "metadata": {},
   "source": [
    "### Checking if data is centroided\n",
    "\n",
    "If data is not centroided it will be transformed"
   ]
  },
  {
   "cell_type": "code",
   "execution_count": 5,
   "metadata": {},
   "outputs": [
    {
     "name": "stdout",
     "output_type": "stream",
     "text": [
      "[1] \"Data is not centroided\"\n",
      "[1] \"Transforming data\"\n"
     ]
    }
   ],
   "source": [
    "data$spectra_centroid <- centroid_check(data$spectra_data, transform = TRUE)"
   ]
  },
  {
   "cell_type": "markdown",
   "metadata": {},
   "source": [
    "## 1.4 Exporting data\n",
    "Saving data as an R object (`.RData`) so you it can be used directly for following analysis"
   ]
  },
  {
   "cell_type": "code",
   "execution_count": 6,
   "metadata": {},
   "outputs": [],
   "source": [
    "save(data, file = file.path(data_dir, 'imported_data.RData'))"
   ]
  }
 ],
 "metadata": {
  "kernelspec": {
   "display_name": "R_4.1",
   "language": "R",
   "name": "ir"
  },
  "language_info": {
   "codemirror_mode": "r",
   "file_extension": ".r",
   "mimetype": "text/x-r-source",
   "name": "R",
   "pygments_lexer": "r",
   "version": "4.1.0"
  }
 },
 "nbformat": 4,
 "nbformat_minor": 4
}
