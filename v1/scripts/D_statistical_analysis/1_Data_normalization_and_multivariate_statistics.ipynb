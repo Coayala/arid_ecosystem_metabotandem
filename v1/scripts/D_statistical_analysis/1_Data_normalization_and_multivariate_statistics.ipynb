{
 "cells": [
  {
   "cell_type": "markdown",
   "metadata": {},
   "source": [
    "# **MetaboTandem**"
   ]
  },
  {
   "cell_type": "markdown",
   "metadata": {},
   "source": [
    "# D. Statistical Analysis"
   ]
  },
  {
   "cell_type": "markdown",
   "metadata": {},
   "source": [
    "# 1. Data Normalization"
   ]
  },
  {
   "cell_type": "markdown",
   "metadata": {},
   "source": [
    "This Notebook allows to merge and rearrange the SIRIUS output into dataframes"
   ]
  },
  {
   "cell_type": "markdown",
   "metadata": {},
   "source": [
    "## 1.1 Loading libraries"
   ]
  },
  {
   "cell_type": "code",
   "execution_count": 58,
   "metadata": {},
   "outputs": [],
   "source": [
    "library(grid)\n",
    "library(vegan)\n",
    "library(gridExtra)\n",
    "library(factoextra)\n",
    "library(tidyverse)\n",
    "source('functions_statistics.R')"
   ]
  },
  {
   "cell_type": "markdown",
   "metadata": {},
   "source": [
    "### Setting output variables"
   ]
  },
  {
   "cell_type": "code",
   "execution_count": 2,
   "metadata": {},
   "outputs": [],
   "source": [
    "figures_dir <- file.path('..', '..', '..', 'figures')\n",
    "tables_dir <- file.path('..', '..', '..', 'tables')"
   ]
  },
  {
   "cell_type": "markdown",
   "metadata": {},
   "source": [
    "## 1.2 User Inputs Required <====\n",
    "Provide the following variables:\n",
    "- **feature_table_file:** Path of the file with the feature intensities\n",
    "- **metadata_file:** Path of the file with the sample information"
   ]
  },
  {
   "cell_type": "code",
   "execution_count": 6,
   "metadata": {},
   "outputs": [],
   "source": [
    "feature_table_file <- file.path(tables_dir, 'b_feature_abundance_matrix.csv')\n",
    "metadata_file <- '../../../data/metadata.csv'"
   ]
  },
  {
   "cell_type": "markdown",
   "metadata": {},
   "source": [
    "## 1.3 Opening data tables"
   ]
  },
  {
   "cell_type": "code",
   "execution_count": 38,
   "metadata": {
    "scrolled": true
   },
   "outputs": [
    {
     "name": "stderr",
     "output_type": "stream",
     "text": [
      "\u001b[1mRows: \u001b[22m\u001b[34m213\u001b[39m \u001b[1mColumns: \u001b[22m\u001b[34m9\u001b[39m\n",
      "\u001b[36m--\u001b[39m \u001b[1mColumn specification\u001b[22m \u001b[36m------------------------------------------------------------------------------------------------\u001b[39m\n",
      "\u001b[1mDelimiter:\u001b[22m \",\"\n",
      "\u001b[31mchr\u001b[39m (1): FeatureID\n",
      "\u001b[32mdbl\u001b[39m (8): RP_S41_peak_area, RP_S42_peak_area, RP_S43_peak_area, RP_S44_peak_a...\n",
      "\n",
      "\u001b[36mi\u001b[39m Use `spec()` to retrieve the full column specification for this data.\n",
      "\u001b[36mi\u001b[39m Specify the column types or set `show_col_types = FALSE` to quiet this message.\n",
      "\u001b[1mRows: \u001b[22m\u001b[34m8\u001b[39m \u001b[1mColumns: \u001b[22m\u001b[34m3\u001b[39m\n",
      "\u001b[36m--\u001b[39m \u001b[1mColumn specification\u001b[22m \u001b[36m------------------------------------------------------------------------------------------------\u001b[39m\n",
      "\u001b[1mDelimiter:\u001b[22m \",\"\n",
      "\u001b[31mchr\u001b[39m (3): FileName, SampleID, treatment\n",
      "\n",
      "\u001b[36mi\u001b[39m Use `spec()` to retrieve the full column specification for this data.\n",
      "\u001b[36mi\u001b[39m Specify the column types or set `show_col_types = FALSE` to quiet this message.\n"
     ]
    }
   ],
   "source": [
    "feature_abundances <- read_csv(feature_table_file) %>% column_to_rownames(var = 'FeatureID') %>% rename_with(~ gsub('_peak_area', '', .x))\n",
    "metadata <- read_csv(metadata_file)"
   ]
  },
  {
   "cell_type": "markdown",
   "metadata": {},
   "source": [
    "## 1.4 Testing multiple normalization methods"
   ]
  },
  {
   "cell_type": "code",
   "execution_count": 28,
   "metadata": {},
   "outputs": [
    {
     "name": "stdout",
     "output_type": "stream",
     "text": [
      "[1] \"Table not saved\"\n",
      "[1] \"Table not saved\"\n",
      "[1] \"Table not saved\"\n",
      "[1] \"Table not saved\"\n",
      "[1] \"Table not saved\"\n"
     ]
    },
    {
     "name": "stderr",
     "output_type": "stream",
     "text": [
      "Warning message:\n",
      "\"Removed 200 rows containing non-finite values (stat_boxplot).\"\n",
      "Saving 6.67 x 6.67 in image\n",
      "\n"
     ]
    },
    {
     "data": {
      "image/png": "[encoded data removed]",
      "text/plain": [
       "plot without title"
      ]
     },
     "metadata": {
      "image/png": {
       "height": 420,
       "width": 420
      }
     },
     "output_type": "display_data"
    }
   ],
   "source": [
    "normalization_plot <- normalize_by_all(feature_abundances, save.figure = file.path(figures_dir, 'normalization_test.png'))"
   ]
  },
  {
   "cell_type": "code",
   "execution_count": 39,
   "metadata": {},
   "outputs": [],
   "source": [
    "norm_features  <- vsn.norm(feature_abundances, save.table = file.path(tables_dir, 'normalized_feature_abundances.csv'))"
   ]
  },
  {
   "cell_type": "markdown",
   "metadata": {},
   "source": [
    "## 1.5 Multivariate statistics"
   ]
  },
  {
   "cell_type": "markdown",
   "metadata": {},
   "source": [
    "## 1.5.1 NMDS"
   ]
  },
  {
   "cell_type": "code",
   "execution_count": 47,
   "metadata": {},
   "outputs": [
    {
     "name": "stdout",
     "output_type": "stream",
     "text": [
      "[1] \"Relative abundance method selected\"\n",
      "Run 0 stress 9.724171e-05 \n",
      "Run 1 stress 9.68307e-05 \n",
      "... New best solution\n",
      "... Procrustes: rmse 0.000204096  max resid 0.0003987703 \n",
      "... Similar to previous best\n",
      "Run 2 stress 9.885934e-05 \n",
      "... Procrustes: rmse 0.0002089092  max resid 0.0004075963 \n",
      "... Similar to previous best\n",
      "Run 3 stress 0.1828897 \n",
      "Run 4 stress 9.922094e-05 \n",
      "... Procrustes: rmse 4.808749e-05  max resid 0.0001017119 \n",
      "... Similar to previous best\n",
      "Run 5 stress 9.68027e-05 \n",
      "... New best solution\n",
      "... Procrustes: rmse 0.0003682391  max resid 0.0006242652 \n",
      "... Similar to previous best\n",
      "Run 6 stress 0.2852162 \n",
      "Run 7 stress 9.992349e-05 \n",
      "... Procrustes: rmse 0.0004502861  max resid 0.0008334292 \n",
      "... Similar to previous best\n",
      "Run 8 stress 0.203162 \n",
      "Run 9 stress 9.704289e-05 \n",
      "... Procrustes: rmse 0.0004145076  max resid 0.0008682322 \n",
      "... Similar to previous best\n",
      "Run 10 stress 0.1877195 \n",
      "Run 11 stress 9.626703e-05 \n",
      "... New best solution\n",
      "... Procrustes: rmse 0.0001414651  max resid 0.0002971256 \n",
      "... Similar to previous best\n",
      "Run 12 stress 0.1999604 \n",
      "Run 13 stress 0.1877195 \n",
      "Run 14 stress 9.897225e-05 \n",
      "... Procrustes: rmse 0.0004113517  max resid 0.0008538405 \n",
      "... Similar to previous best\n",
      "Run 15 stress 9.03438e-05 \n",
      "... New best solution\n",
      "... Procrustes: rmse 0.0003427583  max resid 0.000563965 \n",
      "... Similar to previous best\n",
      "Run 16 stress 9.772511e-05 \n",
      "... Procrustes: rmse 0.0001957394  max resid 0.0003868222 \n",
      "... Similar to previous best\n",
      "Run 17 stress 9.87675e-05 \n",
      "... Procrustes: rmse 0.0002024645  max resid 0.0003950658 \n",
      "... Similar to previous best\n",
      "Run 18 stress 0.1877195 \n",
      "Run 19 stress 9.475599e-05 \n",
      "... Procrustes: rmse 0.0001884787  max resid 0.0003761813 \n",
      "... Similar to previous best\n",
      "Run 20 stress 0.1877195 \n",
      "*** Solution reached\n"
     ]
    },
    {
     "name": "stderr",
     "output_type": "stream",
     "text": [
      "Warning message in metaMDS(dm, k = 2, maxit = 999, trymax = 500, wascores = TRUE):\n",
      "\"stress is (nearly) zero: you may have insufficient data\"\n",
      "Saving 6.67 x 6.67 in image\n",
      "\n"
     ]
    },
    {
     "data": {
      "image/png": "[encoded data removed]",
      "text/plain": [
       "plot without title"
      ]
     },
     "metadata": {
      "image/png": {
       "height": 420,
       "width": 420
      }
     },
     "output_type": "display_data"
    },
    {
     "data": {
      "image/png": "[encoded data removed]",
      "text/plain": [
       "plot without title"
      ]
     },
     "metadata": {
      "image/png": {
       "height": 420,
       "width": 420
      }
     },
     "output_type": "display_data"
    }
   ],
   "source": [
    "nmds <- nmds_ordination(norm_features, metadata, mode = 'ra', color_by = 'treatment', save.figure = file.path(figures_dir, 'nmds_plot.png'),\n",
    "                       save.table = file.path(tables_dir, 'nmds_scores.csv'))"
   ]
  },
  {
   "cell_type": "markdown",
   "metadata": {},
   "source": [
    "### 1.5.2 PCA"
   ]
  },
  {
   "cell_type": "code",
   "execution_count": 57,
   "metadata": {},
   "outputs": [
    {
     "name": "stderr",
     "output_type": "stream",
     "text": [
      "Saving 6.67 x 6.67 in image\n",
      "\n"
     ]
    },
    {
     "data": {
      "image/png": "[encoded data removed]",
      "text/plain": [
       "plot without title"
      ]
     },
     "metadata": {
      "image/png": {
       "height": 420,
       "width": 420
      }
     },
     "output_type": "display_data"
    }
   ],
   "source": [
    "pca <- pca_ordination(norm_features, metadata, color_by = 'treatment', save.figure = file.path(figures_dir, 'pca_plot.png'),\n",
    "                       save.table = file.path(tables_dir, 'pca_coordinates.csv'))"
   ]
  },
  {
   "cell_type": "markdown",
   "metadata": {},
   "source": [
    "## 1.5.3 PERMANOVA"
   ]
  },
  {
   "cell_type": "code",
   "execution_count": 59,
   "metadata": {},
   "outputs": [
    {
     "name": "stdout",
     "output_type": "stream",
     "text": [
      "[1] \"Relative abundance method selected\"\n"
     ]
    },
    {
     "data": {
      "text/plain": [
       "\n",
       "Call:\n",
       "adonis(formula = formula, data = metadata, permutations = 999,      method = dm.method) \n",
       "\n",
       "Permutation: free\n",
       "Number of permutations: 999\n",
       "\n",
       "Terms added sequentially (first to last)\n",
       "\n",
       "          Df  SumsOfSqs    MeanSqs F.Model      R2 Pr(>F)  \n",
       "treatment  1 1.7709e-05 1.7709e-05  6.2154 0.50882  0.021 *\n",
       "Residuals  6 1.7095e-05 2.8492e-06         0.49118         \n",
       "Total      7 3.4804e-05                    1.00000         \n",
       "---\n",
       "Signif. codes:  0 '***' 0.001 '**' 0.01 '*' 0.05 '.' 0.1 ' ' 1"
      ]
     },
     "metadata": {},
     "output_type": "display_data"
    }
   ],
   "source": [
    "permanova <- calculate_permanova(norm_features, metadata, mode = 'ra', group_by = 'treatment',\n",
    "                                save.table = file.path(tables_dir, 'permanova_table.csv'))\n",
    "permanova"
   ]
  }
 ],
 "metadata": {
  "kernelspec": {
   "display_name": "R",
   "language": "R",
   "name": "ir"
  },
  "language_info": {
   "codemirror_mode": "r",
   "file_extension": ".r",
   "mimetype": "text/x-r-source",
   "name": "R",
   "pygments_lexer": "r",
   "version": "4.1.1"
  }
 },
 "nbformat": 4,
 "nbformat_minor": 4
}
