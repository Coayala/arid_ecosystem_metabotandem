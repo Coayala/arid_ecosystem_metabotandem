{
 "cells": [
  {
   "cell_type": "markdown",
   "metadata": {},
   "source": [
    "# **MetaboTandem**"
   ]
  },
  {
   "cell_type": "markdown",
   "metadata": {},
   "source": [
    "# D. Statistical Analysis"
   ]
  },
  {
   "cell_type": "markdown",
   "metadata": {},
   "source": [
    "# 2. Differential analysis"
   ]
  },
  {
   "cell_type": "markdown",
   "metadata": {},
   "source": [
    "This Notebook allows to merge and rearrange the SIRIUS output into dataframes"
   ]
  },
  {
   "cell_type": "markdown",
   "metadata": {},
   "source": [
    "## 2.1 Loading libraries"
   ]
  },
  {
   "cell_type": "code",
   "execution_count": 19,
   "metadata": {},
   "outputs": [],
   "source": [
    "library(tidyverse)\n",
    "source('functions_statistics.R')"
   ]
  },
  {
   "cell_type": "markdown",
   "metadata": {},
   "source": [
    "### Setting output variables"
   ]
  },
  {
   "cell_type": "code",
   "execution_count": 2,
   "metadata": {},
   "outputs": [],
   "source": [
    "figures_dir <- file.path('..', '..', '..', 'figures')\n",
    "tables_dir <- file.path('..', '..', '..', 'tables')"
   ]
  },
  {
   "cell_type": "markdown",
   "metadata": {},
   "source": [
    "## 2.2 User Inputs Required <====\n",
    "Provide the following variables:\n",
    "- **norm_feature_table_file:** Path of the file with the normalized feature intensities\n",
    "- **metadata_file:** Path of the file with the sample information"
   ]
  },
  {
   "cell_type": "code",
   "execution_count": 11,
   "metadata": {},
   "outputs": [],
   "source": [
    "norm_feature_table_file <- file.path(tables_dir, 'normalized_feature_abundances.csv')\n",
    "metadata_file <- '../../../data/metadata.csv'"
   ]
  },
  {
   "cell_type": "markdown",
   "metadata": {},
   "source": [
    "## 2.3 Opening data tables"
   ]
  },
  {
   "cell_type": "code",
   "execution_count": 4,
   "metadata": {
    "scrolled": true
   },
   "outputs": [
    {
     "name": "stderr",
     "output_type": "stream",
     "text": [
      "\u001b[1mRows: \u001b[22m\u001b[34m213\u001b[39m \u001b[1mColumns: \u001b[22m\u001b[34m9\u001b[39m\n",
      "\u001b[36m--\u001b[39m \u001b[1mColumn specification\u001b[22m \u001b[36m------------------------------------------------------------------------------------------------\u001b[39m\n",
      "\u001b[1mDelimiter:\u001b[22m \",\"\n",
      "\u001b[31mchr\u001b[39m (1): FeatureID\n",
      "\u001b[32mdbl\u001b[39m (8): RP_S41, RP_S42, RP_S43, RP_S44, RP_S57, RP_S58, RP_S59, RP_S60\n",
      "\n",
      "\u001b[36mi\u001b[39m Use `spec()` to retrieve the full column specification for this data.\n",
      "\u001b[36mi\u001b[39m Specify the column types or set `show_col_types = FALSE` to quiet this message.\n",
      "\u001b[1mRows: \u001b[22m\u001b[34m8\u001b[39m \u001b[1mColumns: \u001b[22m\u001b[34m3\u001b[39m\n",
      "\u001b[36m--\u001b[39m \u001b[1mColumn specification\u001b[22m \u001b[36m------------------------------------------------------------------------------------------------\u001b[39m\n",
      "\u001b[1mDelimiter:\u001b[22m \",\"\n",
      "\u001b[31mchr\u001b[39m (3): FileName, SampleID, treatment\n",
      "\n",
      "\u001b[36mi\u001b[39m Use `spec()` to retrieve the full column specification for this data.\n",
      "\u001b[36mi\u001b[39m Specify the column types or set `show_col_types = FALSE` to quiet this message.\n"
     ]
    }
   ],
   "source": [
    "norm_abundances <- read_csv(norm_feature_table_file)\n",
    "metadata <- read_csv(metadata_file)"
   ]
  },
  {
   "cell_type": "markdown",
   "metadata": {},
   "source": [
    "## 2.4 Calculate differential expression"
   ]
  },
  {
   "cell_type": "markdown",
   "metadata": {},
   "source": [
    "### 2.4.1 Get sample lists"
   ]
  },
  {
   "cell_type": "code",
   "execution_count": 7,
   "metadata": {},
   "outputs": [],
   "source": [
    "control_samples <- get_samples(metadata, 'treatment', 'CTR')\n",
    "treatment_samples <- get_samples(metadata, 'treatment', 'WP')"
   ]
  },
  {
   "cell_type": "markdown",
   "metadata": {},
   "source": [
    "### 2.4.2 Get differential expression table"
   ]
  },
  {
   "cell_type": "code",
   "execution_count": 9,
   "metadata": {},
   "outputs": [
    {
     "data": {
      "text/html": [
       "<table class=\"dataframe\">\n",
       "<caption>A data.frame: 6 × 6</caption>\n",
       "<thead>\n",
       "\t<tr><th></th><th scope=col>FeatureID</th><th scope=col>control_means</th><th scope=col>treatment_means</th><th scope=col>log2FC</th><th scope=col>pval</th><th scope=col>pval.adj</th></tr>\n",
       "\t<tr><th></th><th scope=col>&lt;chr&gt;</th><th scope=col>&lt;dbl&gt;</th><th scope=col>&lt;dbl&gt;</th><th scope=col>&lt;dbl&gt;</th><th scope=col>&lt;dbl&gt;</th><th scope=col>&lt;dbl&gt;</th></tr>\n",
       "</thead>\n",
       "<tbody>\n",
       "\t<tr><th scope=row>1</th><td>1</td><td>29.99424</td><td>30.36299</td><td> 0.3687470</td><td>7.854953e-05</td><td>0.001673105</td></tr>\n",
       "\t<tr><th scope=row>2</th><td>2</td><td>29.20741</td><td>28.88054</td><td>-0.3268645</td><td>2.914655e-04</td><td>0.004138810</td></tr>\n",
       "\t<tr><th scope=row>3</th><td>3</td><td>28.48591</td><td>28.70204</td><td> 0.2161367</td><td>9.444114e-02</td><td>0.236658383</td></tr>\n",
       "\t<tr><th scope=row>4</th><td>4</td><td>28.09344</td><td>27.97831</td><td>-0.1151292</td><td>1.192384e-02</td><td>0.061945818</td></tr>\n",
       "\t<tr><th scope=row>5</th><td>5</td><td>28.46142</td><td>28.26901</td><td>-0.1924096</td><td>5.038125e-04</td><td>0.005961781</td></tr>\n",
       "\t<tr><th scope=row>6</th><td>6</td><td>29.57852</td><td>29.92273</td><td> 0.3442118</td><td>5.592754e-04</td><td>0.006211370</td></tr>\n",
       "</tbody>\n",
       "</table>\n"
      ],
      "text/latex": [
       "A data.frame: 6 × 6\n",
       "\\begin{tabular}{r|llllll}\n",
       "  & FeatureID & control\\_means & treatment\\_means & log2FC & pval & pval.adj\\\\\n",
       "  & <chr> & <dbl> & <dbl> & <dbl> & <dbl> & <dbl>\\\\\n",
       "\\hline\n",
       "\t1 & 1 & 29.99424 & 30.36299 &  0.3687470 & 7.854953e-05 & 0.001673105\\\\\n",
       "\t2 & 2 & 29.20741 & 28.88054 & -0.3268645 & 2.914655e-04 & 0.004138810\\\\\n",
       "\t3 & 3 & 28.48591 & 28.70204 &  0.2161367 & 9.444114e-02 & 0.236658383\\\\\n",
       "\t4 & 4 & 28.09344 & 27.97831 & -0.1151292 & 1.192384e-02 & 0.061945818\\\\\n",
       "\t5 & 5 & 28.46142 & 28.26901 & -0.1924096 & 5.038125e-04 & 0.005961781\\\\\n",
       "\t6 & 6 & 29.57852 & 29.92273 &  0.3442118 & 5.592754e-04 & 0.006211370\\\\\n",
       "\\end{tabular}\n"
      ],
      "text/markdown": [
       "\n",
       "A data.frame: 6 × 6\n",
       "\n",
       "| <!--/--> | FeatureID &lt;chr&gt; | control_means &lt;dbl&gt; | treatment_means &lt;dbl&gt; | log2FC &lt;dbl&gt; | pval &lt;dbl&gt; | pval.adj &lt;dbl&gt; |\n",
       "|---|---|---|---|---|---|---|\n",
       "| 1 | 1 | 29.99424 | 30.36299 |  0.3687470 | 7.854953e-05 | 0.001673105 |\n",
       "| 2 | 2 | 29.20741 | 28.88054 | -0.3268645 | 2.914655e-04 | 0.004138810 |\n",
       "| 3 | 3 | 28.48591 | 28.70204 |  0.2161367 | 9.444114e-02 | 0.236658383 |\n",
       "| 4 | 4 | 28.09344 | 27.97831 | -0.1151292 | 1.192384e-02 | 0.061945818 |\n",
       "| 5 | 5 | 28.46142 | 28.26901 | -0.1924096 | 5.038125e-04 | 0.005961781 |\n",
       "| 6 | 6 | 29.57852 | 29.92273 |  0.3442118 | 5.592754e-04 | 0.006211370 |\n",
       "\n"
      ],
      "text/plain": [
       "  FeatureID control_means treatment_means log2FC     pval         pval.adj   \n",
       "1 1         29.99424      30.36299         0.3687470 7.854953e-05 0.001673105\n",
       "2 2         29.20741      28.88054        -0.3268645 2.914655e-04 0.004138810\n",
       "3 3         28.48591      28.70204         0.2161367 9.444114e-02 0.236658383\n",
       "4 4         28.09344      27.97831        -0.1151292 1.192384e-02 0.061945818\n",
       "5 5         28.46142      28.26901        -0.1924096 5.038125e-04 0.005961781\n",
       "6 6         29.57852      29.92273         0.3442118 5.592754e-04 0.006211370"
      ]
     },
     "metadata": {},
     "output_type": "display_data"
    }
   ],
   "source": [
    "diff_expression <- get_diff_table(norm_abundances, control.sample_list = control_samples,\n",
    "                                 treatment.sample_list = treatment_samples, log2_transformed = TRUE)\n",
    "head(diff_expression)"
   ]
  },
  {
   "cell_type": "markdown",
   "metadata": {},
   "source": [
    "### 2.4.3 Plot Volcano"
   ]
  },
  {
   "cell_type": "code",
   "execution_count": 21,
   "metadata": {},
   "outputs": [
    {
     "name": "stderr",
     "output_type": "stream",
     "text": [
      "Saving 6.67 x 6.67 in image\n",
      "\n"
     ]
    },
    {
     "data": {
      "image/png": "[encoded data removed]",
      "text/plain": [
       "plot without title"
      ]
     },
     "metadata": {
      "image/png": {
       "height": 420,
       "width": 420
      }
     },
     "output_type": "display_data"
    }
   ],
   "source": [
    "volcano <- plot_volcano(diff_expression, log2FC, pval.adj, log2FC.threshold = 0.5, pval.threshold = 0.05, \n",
    "                        save.figure = file.path(figures_dir, 'volcano_plot.png'))"
   ]
  }
 ],
 "metadata": {
  "kernelspec": {
   "display_name": "R",
   "language": "R",
   "name": "ir"
  },
  "language_info": {
   "codemirror_mode": "r",
   "file_extension": ".r",
   "mimetype": "text/x-r-source",
   "name": "R",
   "pygments_lexer": "r",
   "version": "4.1.1"
  }
 },
 "nbformat": 4,
 "nbformat_minor": 4
}
